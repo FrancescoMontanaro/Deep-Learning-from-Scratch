{
 "cells": [
  {
   "cell_type": "code",
   "execution_count": 2,
   "metadata": {},
   "outputs": [],
   "source": [
    "import os\n",
    "import torch\n",
    "\n",
    "from src.tokenizer import Tokenizer\n",
    "from src.data_loader import DataLoader\n",
    "from src.transformer import Transformer\n",
    "from src.utils import device, load_txt_file"
   ]
  },
  {
   "cell_type": "markdown",
   "metadata": {},
   "source": [
    "### Constants and hyperparameters"
   ]
  },
  {
   "cell_type": "code",
   "execution_count": 3,
   "metadata": {},
   "outputs": [],
   "source": [
    "# Constants\n",
    "dataset_path = os.path.join(os.getcwd(), 'dataset', 'input.txt')\n",
    "tokenizer_path = os.path.join(os.getcwd(), 'checkpoints', 'tokenizer.json')"
   ]
  },
  {
   "cell_type": "code",
   "execution_count": 4,
   "metadata": {},
   "outputs": [],
   "source": [
    "# Hyperparameters\n",
    "train_val_split = 0.9 # 90% of the data will be used for training, 10% for validation\n",
    "batch_size = 64 # The number of samples to use for each batch\n",
    "block_size = 256 # The size of the sequence length (the context window)\n",
    "learning_rate = 1e-3 # The learning rate for the optimizer\n",
    "epochs = 500 # The number of epochs to train the model for\n",
    "n_embed = 384 # The size of the token embeddings (the dimensionality of the embeddings)\n",
    "eval_iters = 10 # The number of iterations to evaluate the model\n",
    "num_attention_heads = 6 # The number of attention heads in the multi-head attention mechanism\n",
    "num_transformer_blocks = 6 # The number of transformer blocks in the model\n",
    "dropout = 0.2 # The dropout rate"
   ]
  },
  {
   "cell_type": "markdown",
   "metadata": {},
   "source": [
    "### Initializations"
   ]
  },
  {
   "cell_type": "code",
   "execution_count": 5,
   "metadata": {},
   "outputs": [],
   "source": [
    "# Set the random seed for reproducibility\n",
    "torch.manual_seed(1337);"
   ]
  },
  {
   "cell_type": "markdown",
   "metadata": {},
   "source": [
    "### Data loading"
   ]
  },
  {
   "cell_type": "code",
   "execution_count": 6,
   "metadata": {},
   "outputs": [],
   "source": [
    "# Instantiate the tokenizer\n",
    "tokenizer = Tokenizer()\n",
    "\n",
    "# Load the state of the tokenizer\n",
    "tokenizer.load_state(tokenizer_path)"
   ]
  },
  {
   "cell_type": "code",
   "execution_count": 7,
   "metadata": {},
   "outputs": [],
   "source": [
    "# Load the text file\n",
    "text = load_txt_file(dataset_path)\n",
    "\n",
    "# Encode the text using the tokenizer\n",
    "encoded_text = tokenizer.encode(text)\n",
    "\n",
    "# Convert the data to a tensor\n",
    "data = torch.tensor(encoded_text, dtype=torch.long)"
   ]
  },
  {
   "cell_type": "code",
   "execution_count": 8,
   "metadata": {},
   "outputs": [],
   "source": [
    "# Instantiate the data handler\n",
    "data_handler = DataLoader(\n",
    "    data = data, \n",
    "    train_val_split = train_val_split\n",
    ")"
   ]
  },
  {
   "cell_type": "markdown",
   "metadata": {},
   "source": [
    "### Building the model"
   ]
  },
  {
   "cell_type": "code",
   "execution_count": 9,
   "metadata": {},
   "outputs": [
    {
     "name": "stdout",
     "output_type": "stream",
     "text": [
      "Model moved to device: mps\n"
     ]
    }
   ],
   "source": [
    "# Create the language model\n",
    "language_model = Transformer(\n",
    "    vocab_size = tokenizer.vocab_size, # type: ignore\n",
    "    n_embed = n_embed,\n",
    "    n_heads = num_attention_heads,\n",
    "    block_size = block_size,\n",
    "    n_transformer_blocks = num_transformer_blocks,\n",
    "    dropout = dropout\n",
    ")"
   ]
  },
  {
   "cell_type": "markdown",
   "metadata": {},
   "source": [
    "### Training the model"
   ]
  },
  {
   "cell_type": "code",
   "execution_count": 10,
   "metadata": {},
   "outputs": [
    {
     "name": "stdout",
     "output_type": "stream",
     "text": [
      "Epoch 1/500 - Train Loss: 7.1066, Val Loss: 7.1044\n",
      "Epoch 11/500 - Train Loss: 5.1603, Val Loss: 5.1907\n",
      "Epoch 21/500 - Train Loss: 4.7002, Val Loss: 4.7628\n",
      "Epoch 31/500 - Train Loss: 4.2573, Val Loss: 4.3366\n",
      "Epoch 41/500 - Train Loss: 3.9934, Val Loss: 4.1140\n",
      "Epoch 51/500 - Train Loss: 3.7969, Val Loss: 3.9445\n",
      "Epoch 61/500 - Train Loss: 3.6891, Val Loss: 3.8471\n",
      "Epoch 71/500 - Train Loss: 3.6000, Val Loss: 3.7789\n",
      "Epoch 81/500 - Train Loss: 3.5420, Val Loss: 3.7201\n",
      "Epoch 91/500 - Train Loss: 3.4958, Val Loss: 3.7188\n",
      "Epoch 101/500 - Train Loss: 3.4752, Val Loss: 3.6707\n",
      "Epoch 111/500 - Train Loss: 3.4440, Val Loss: 3.6378\n",
      "Epoch 121/500 - Train Loss: 3.4149, Val Loss: 3.6055\n",
      "Epoch 131/500 - Train Loss: 3.4050, Val Loss: 3.6024\n",
      "Epoch 141/500 - Train Loss: 3.3823, Val Loss: 3.5734\n",
      "Epoch 151/500 - Train Loss: 3.3580, Val Loss: 3.5585\n",
      "Epoch 161/500 - Train Loss: 3.3267, Val Loss: 3.5495\n",
      "Epoch 171/500 - Train Loss: 3.3157, Val Loss: 3.5355\n",
      "Epoch 181/500 - Train Loss: 3.2779, Val Loss: 3.5188\n",
      "Epoch 191/500 - Train Loss: 3.2588, Val Loss: 3.4957\n",
      "Epoch 201/500 - Train Loss: 3.2204, Val Loss: 3.4604\n",
      "Epoch 211/500 - Train Loss: 3.1880, Val Loss: 3.4655\n",
      "Epoch 221/500 - Train Loss: 3.1715, Val Loss: 3.4112\n",
      "Epoch 231/500 - Train Loss: 3.1093, Val Loss: 3.3898\n",
      "Epoch 241/500 - Train Loss: 3.0889, Val Loss: 3.3563\n",
      "Epoch 251/500 - Train Loss: 3.0310, Val Loss: 3.3213\n",
      "Epoch 261/500 - Train Loss: 2.9974, Val Loss: 3.3023\n",
      "Epoch 271/500 - Train Loss: 2.9695, Val Loss: 3.2679\n",
      "Epoch 281/500 - Train Loss: 2.9270, Val Loss: 3.2437\n",
      "Epoch 291/500 - Train Loss: 2.8783, Val Loss: 3.2215\n",
      "Epoch 301/500 - Train Loss: 2.8609, Val Loss: 3.1991\n",
      "Epoch 311/500 - Train Loss: 2.8135, Val Loss: 3.1752\n",
      "Epoch 321/500 - Train Loss: 2.7961, Val Loss: 3.1463\n",
      "Epoch 331/500 - Train Loss: 2.7722, Val Loss: 3.1260\n",
      "Epoch 341/500 - Train Loss: 2.7521, Val Loss: 3.1046\n",
      "Epoch 351/500 - Train Loss: 2.7193, Val Loss: 3.0927\n",
      "Epoch 361/500 - Train Loss: 2.7114, Val Loss: 3.0901\n",
      "Epoch 371/500 - Train Loss: 2.6749, Val Loss: 3.0436\n",
      "Epoch 381/500 - Train Loss: 2.6565, Val Loss: 3.0289\n",
      "Epoch 391/500 - Train Loss: 2.6318, Val Loss: 3.0103\n",
      "Epoch 401/500 - Train Loss: 2.6044, Val Loss: 3.0212\n",
      "Epoch 411/500 - Train Loss: 2.6006, Val Loss: 3.0197\n",
      "Epoch 421/500 - Train Loss: 2.5819, Val Loss: 3.0002\n",
      "Epoch 431/500 - Train Loss: 2.5713, Val Loss: 2.9874\n",
      "Epoch 441/500 - Train Loss: 2.5670, Val Loss: 2.9830\n",
      "Epoch 451/500 - Train Loss: 2.5410, Val Loss: 2.9763\n",
      "Epoch 461/500 - Train Loss: 2.5090, Val Loss: 2.9679\n",
      "Epoch 471/500 - Train Loss: 2.4824, Val Loss: 2.9420\n",
      "Epoch 481/500 - Train Loss: 2.4904, Val Loss: 2.9637\n",
      "Epoch 491/500 - Train Loss: 2.4965, Val Loss: 2.9449\n"
     ]
    }
   ],
   "source": [
    "# Train the model\n",
    "language_model.train_model(\n",
    "    data_loader = data_handler,\n",
    "    epochs = epochs, \n",
    "    lr = learning_rate, \n",
    "    batch_size = batch_size,\n",
    "    eval_iters = eval_iters\n",
    ")"
   ]
  },
  {
   "cell_type": "markdown",
   "metadata": {},
   "source": [
    "### Inference"
   ]
  },
  {
   "cell_type": "code",
   "execution_count": 11,
   "metadata": {},
   "outputs": [
    {
     "name": "stdout",
     "output_type": "stream",
     "text": [
      "\u0000th we cand ourtever trumpeting a should my self,\n",
      "Whose such, but good all think not be bound:\n",
      "Go, believe a scheek rejoin,\n",
      "Anon, sirs what is to make and hopes to be.\n",
      "Paulince you, lets, and\n"
     ]
    }
   ],
   "source": [
    "# Generate some text from the trained model\n",
    "context = torch.zeros((1, 1), dtype=torch.long, device=device)\n",
    "\n",
    "# Decode and display the generated text\n",
    "print(tokenizer.decode(language_model.generate(context, max_new_tokens=100).squeeze().tolist()))"
   ]
  }
 ],
 "metadata": {
  "kernelspec": {
   "display_name": "venv",
   "language": "python",
   "name": "python3"
  },
  "language_info": {
   "codemirror_mode": {
    "name": "ipython",
    "version": 3
   },
   "file_extension": ".py",
   "mimetype": "text/x-python",
   "name": "python",
   "nbconvert_exporter": "python",
   "pygments_lexer": "ipython3",
   "version": "3.11.11"
  }
 },
 "nbformat": 4,
 "nbformat_minor": 2
}
