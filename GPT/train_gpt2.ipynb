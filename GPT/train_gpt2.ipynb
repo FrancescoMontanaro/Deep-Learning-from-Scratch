{
 "cells": [
  {
   "cell_type": "code",
   "execution_count": 1,
   "metadata": {},
   "outputs": [],
   "source": [
    "import os\n",
    "import sys\n",
    "import torch\n",
    "\n",
    "sys.path.append(\"..\")\n",
    "\n",
    "from src.utils import device\n",
    "from src.architectures.gpt2 import GPT2, GPTConfig, Tokenizer, DataLoader"
   ]
  },
  {
   "cell_type": "markdown",
   "metadata": {},
   "source": [
    "### Constants and hyperparameters"
   ]
  },
  {
   "cell_type": "code",
   "execution_count": 2,
   "metadata": {},
   "outputs": [],
   "source": [
    "# Constants\n",
    "dataset_path = os.path.join(os.getcwd(), 'dataset', 'divina_commedia.txt')"
   ]
  },
  {
   "cell_type": "code",
   "execution_count": 3,
   "metadata": {},
   "outputs": [],
   "source": [
    "# Hyperparameters\n",
    "batch_size = 1024 # Batch size for training\n",
    "\n",
    "# Micro batch size for gradient accumulation. This is the number of batches to accumulate gradients before backpropagating.\n",
    "# This is useful when the batch size is too large to fit into memory, so we split the batch into smaller micro batches and accumulate the gradients before backpropagating\n",
    "micro_batch_size = 4\n",
    "\n",
    "epochs = 50 # Number of training epochs\n",
    "sequence_length = 32 # Number of tokens in each training sequence\n",
    "train_val_split = 0.1 # Percentage of training data to use for validation\n",
    "learning_rate = 3e-4 # Learning rate for the optimizer"
   ]
  },
  {
   "cell_type": "markdown",
   "metadata": {},
   "source": [
    "### Initializations"
   ]
  },
  {
   "cell_type": "code",
   "execution_count": 4,
   "metadata": {},
   "outputs": [],
   "source": [
    "# Set the random seed for reproducibility\n",
    "torch.manual_seed(1337);\n",
    "\n",
    "# Reduce the precision for the matmul operator to improve performance\n",
    "torch.set_float32_matmul_precision('high')"
   ]
  },
  {
   "cell_type": "markdown",
   "metadata": {},
   "source": [
    "### Data loading"
   ]
  },
  {
   "cell_type": "code",
   "execution_count": 5,
   "metadata": {},
   "outputs": [],
   "source": [
    "# Instantiate the tokenizer\n",
    "tokenizer = Tokenizer('gpt2')"
   ]
  },
  {
   "cell_type": "code",
   "execution_count": 6,
   "metadata": {},
   "outputs": [
    {
     "name": "stdout",
     "output_type": "stream",
     "text": [
      "Training set size:  106392\n",
      "Validation set size:  11821\n"
     ]
    }
   ],
   "source": [
    "# Instantiate the data loader\n",
    "data_loader = DataLoader(\n",
    "    txt_file = dataset_path,\n",
    "    tokenizer = tokenizer,\n",
    "    train_val_split = train_val_split\n",
    ")\n",
    "\n",
    "# Print the dataset statistics\n",
    "print(\"Training set size: \", len(data_loader.train_tokens))\n",
    "print(\"Validation set size: \", len(data_loader.val_tokens))"
   ]
  },
  {
   "cell_type": "code",
   "execution_count": 7,
   "metadata": {},
   "outputs": [],
   "source": [
    "# Create the model configuration\n",
    "# The vocabulary size is 50304, instead of the classic 50257 if the gpt2 tokenizer,\n",
    "# because we add some padding tokens to the vocabulary in order to make the vocabulary \n",
    "# size a multiple of 8 in order to improve performance when using FP16 training.\n",
    "model_config = GPTConfig(\n",
    "    context_size = 1024,\n",
    "    vocab_size = 50304,\n",
    "    n_blocks = 12,\n",
    "    n_heads = 12,\n",
    "    n_embed = 768\n",
    ")"
   ]
  },
  {
   "cell_type": "markdown",
   "metadata": {},
   "source": [
    "### Building the model"
   ]
  },
  {
   "cell_type": "code",
   "execution_count": 8,
   "metadata": {},
   "outputs": [],
   "source": [
    "# Creating the GPT-2 model\n",
    "gpt2 = GPT2(model_config)\n",
    "\n",
    "# Move the model to the GPU if available \n",
    "# and set the precision to bfloat16 for improved performance\n",
    "gpt2 = gpt2.to(torch.bfloat16).to(device)\n",
    "\n",
    "# Compile the model to optimize performance\n",
    "gpt2 = torch.compile(gpt2)"
   ]
  },
  {
   "cell_type": "markdown",
   "metadata": {},
   "source": [
    "### Training the model"
   ]
  },
  {
   "cell_type": "code",
   "execution_count": 9,
   "metadata": {},
   "outputs": [
    {
     "name": "stdout",
     "output_type": "stream",
     "text": [
      "Epoch: 1/50 | Completion percentage: 33.33% | Step duration 1099.23 ms/step --> loss: 11.0000\n",
      "Epoch: 1/50 | Completion percentage: 66.67% | Step duration 423.12 ms/step --> loss: 9.9375\n",
      "Epoch: 1/50 | Completion percentage: 100.00% | Step duration 423.96 ms/step --> loss: 9.5000\n",
      "Epoch 1/50 | Average step duration 648.77 ms/step | Epoch duration 3071.61 ms/epoch --> loss: 10.1875 - val_loss: 9.1977\n",
      "Epoch: 2/50 | Completion percentage: 33.33% | Step duration 424.95 ms/step --> loss: 9.1875\n",
      "Epoch: 2/50 | Completion percentage: 66.67% | Step duration 431.27 ms/step --> loss: 9.0000\n",
      "Epoch: 2/50 | Completion percentage: 100.00% | Step duration 421.63 ms/step --> loss: 8.8125\n",
      "Epoch 2/50 | Average step duration 425.95 ms/step | Epoch duration 2411.65 ms/epoch --> loss: 9.0000 - val_loss: 8.4579\n",
      "Epoch: 3/50 | Completion percentage: 33.33% | Step duration 423.60 ms/step --> loss: 8.5000\n",
      "Epoch: 3/50 | Completion percentage: 66.67% | Step duration 425.40 ms/step --> loss: 8.1250\n",
      "Epoch: 3/50 | Completion percentage: 100.00% | Step duration 424.84 ms/step --> loss: 7.8750\n",
      "Epoch 3/50 | Average step duration 424.61 ms/step | Epoch duration 2417.41 ms/epoch --> loss: 8.1875 - val_loss: 7.7096\n",
      "Epoch: 4/50 | Completion percentage: 33.33% | Step duration 423.21 ms/step --> loss: 7.6562\n",
      "Epoch: 4/50 | Completion percentage: 66.67% | Step duration 424.61 ms/step --> loss: 7.4062\n",
      "Epoch: 4/50 | Completion percentage: 100.00% | Step duration 423.67 ms/step --> loss: 7.1875\n",
      "Epoch 4/50 | Average step duration 423.83 ms/step | Epoch duration 2414.71 ms/epoch --> loss: 7.4062 - val_loss: 7.2082\n",
      "Epoch: 5/50 | Completion percentage: 33.33% | Step duration 423.94 ms/step --> loss: 7.2500\n",
      "Epoch: 5/50 | Completion percentage: 66.67% | Step duration 433.18 ms/step --> loss: 6.8125\n",
      "Epoch: 5/50 | Completion percentage: 100.00% | Step duration 428.69 ms/step --> loss: 6.6562\n",
      "Epoch 5/50 | Average step duration 428.60 ms/step | Epoch duration 2471.71 ms/epoch --> loss: 6.9062 - val_loss: 6.6579\n",
      "Epoch: 6/50 | Completion percentage: 33.33% | Step duration 421.99 ms/step --> loss: 6.5938\n",
      "Epoch: 6/50 | Completion percentage: 66.67% | Step duration 424.09 ms/step --> loss: 6.5312\n",
      "Epoch: 6/50 | Completion percentage: 100.00% | Step duration 424.23 ms/step --> loss: 6.3125\n",
      "Epoch 6/50 | Average step duration 423.44 ms/step | Epoch duration 2415.32 ms/epoch --> loss: 6.5000 - val_loss: 6.3913\n",
      "Epoch: 7/50 | Completion percentage: 33.33% | Step duration 424.26 ms/step --> loss: 6.3125\n",
      "Epoch: 7/50 | Completion percentage: 66.67% | Step duration 425.81 ms/step --> loss: 6.2500\n",
      "Epoch: 7/50 | Completion percentage: 100.00% | Step duration 422.61 ms/step --> loss: 6.2188\n",
      "Epoch 7/50 | Average step duration 424.22 ms/step | Epoch duration 2405.13 ms/epoch --> loss: 6.2500 - val_loss: 6.2836\n",
      "Epoch: 8/50 | Completion percentage: 33.33% | Step duration 422.76 ms/step --> loss: 6.2500\n",
      "Epoch: 8/50 | Completion percentage: 66.67% | Step duration 440.98 ms/step --> loss: 6.1875\n",
      "Epoch: 8/50 | Completion percentage: 100.00% | Step duration 429.12 ms/step --> loss: 6.2500\n",
      "Epoch 8/50 | Average step duration 430.95 ms/step | Epoch duration 2432.32 ms/epoch --> loss: 6.2500 - val_loss: 6.2313\n",
      "Epoch: 9/50 | Completion percentage: 33.33% | Step duration 423.33 ms/step --> loss: 6.1562\n",
      "Epoch: 9/50 | Completion percentage: 66.67% | Step duration 422.30 ms/step --> loss: 6.0625\n",
      "Epoch: 9/50 | Completion percentage: 100.00% | Step duration 421.91 ms/step --> loss: 6.0000\n",
      "Epoch 9/50 | Average step duration 422.52 ms/step | Epoch duration 2405.90 ms/epoch --> loss: 6.0938 - val_loss: 6.2123\n",
      "Epoch: 10/50 | Completion percentage: 33.33% | Step duration 424.04 ms/step --> loss: 6.1250\n",
      "Epoch: 10/50 | Completion percentage: 66.67% | Step duration 422.04 ms/step --> loss: 6.0938\n",
      "Epoch: 10/50 | Completion percentage: 100.00% | Step duration 424.25 ms/step --> loss: 6.0938\n",
      "Epoch 10/50 | Average step duration 423.45 ms/step | Epoch duration 2404.96 ms/epoch --> loss: 6.1250 - val_loss: 6.2184\n",
      "Epoch: 11/50 | Completion percentage: 33.33% | Step duration 423.26 ms/step --> loss: 6.0938\n",
      "Epoch: 11/50 | Completion percentage: 66.67% | Step duration 424.41 ms/step --> loss: 6.0938\n",
      "Epoch: 11/50 | Completion percentage: 100.00% | Step duration 423.82 ms/step --> loss: 6.1250\n",
      "Epoch 11/50 | Average step duration 423.83 ms/step | Epoch duration 2416.79 ms/epoch --> loss: 6.0938 - val_loss: 6.1345\n",
      "Epoch: 12/50 | Completion percentage: 33.33% | Step duration 447.53 ms/step --> loss: 6.0625\n",
      "Epoch: 12/50 | Completion percentage: 66.67% | Step duration 425.24 ms/step --> loss: 5.9375\n",
      "Epoch: 12/50 | Completion percentage: 100.00% | Step duration 423.17 ms/step --> loss: 5.9375\n",
      "Epoch 12/50 | Average step duration 431.98 ms/step | Epoch duration 2429.99 ms/epoch --> loss: 6.0000 - val_loss: 6.0802\n",
      "Epoch: 13/50 | Completion percentage: 33.33% | Step duration 424.17 ms/step --> loss: 6.0625\n",
      "Epoch: 13/50 | Completion percentage: 66.67% | Step duration 425.51 ms/step --> loss: 5.9688\n",
      "Epoch: 13/50 | Completion percentage: 100.00% | Step duration 422.90 ms/step --> loss: 5.8750\n",
      "Epoch 13/50 | Average step duration 424.19 ms/step | Epoch duration 2407.30 ms/epoch --> loss: 5.9688 - val_loss: 6.0639\n",
      "Epoch: 14/50 | Completion percentage: 33.33% | Step duration 422.12 ms/step --> loss: 5.9375\n",
      "Epoch: 14/50 | Completion percentage: 66.67% | Step duration 423.41 ms/step --> loss: 5.9375\n",
      "Epoch: 14/50 | Completion percentage: 100.00% | Step duration 424.46 ms/step --> loss: 5.8750\n",
      "Epoch 14/50 | Average step duration 423.33 ms/step | Epoch duration 2420.72 ms/epoch --> loss: 5.9062 - val_loss: 6.0197\n",
      "Epoch: 15/50 | Completion percentage: 33.33% | Step duration 424.62 ms/step --> loss: 6.0000\n",
      "Epoch: 15/50 | Completion percentage: 66.67% | Step duration 423.32 ms/step --> loss: 5.9375\n",
      "Epoch: 15/50 | Completion percentage: 100.00% | Step duration 424.65 ms/step --> loss: 6.0000\n",
      "Epoch 15/50 | Average step duration 424.20 ms/step | Epoch duration 2405.31 ms/epoch --> loss: 6.0000 - val_loss: 5.9983\n",
      "Epoch: 16/50 | Completion percentage: 33.33% | Step duration 423.54 ms/step --> loss: 5.9062\n",
      "Epoch: 16/50 | Completion percentage: 66.67% | Step duration 423.80 ms/step --> loss: 5.8125\n",
      "Epoch: 16/50 | Completion percentage: 100.00% | Step duration 423.10 ms/step --> loss: 5.8125\n",
      "Epoch 16/50 | Average step duration 423.48 ms/step | Epoch duration 2423.64 ms/epoch --> loss: 5.8438 - val_loss: 5.9497\n",
      "Epoch: 17/50 | Completion percentage: 33.33% | Step duration 426.07 ms/step --> loss: 5.9062\n",
      "Epoch: 17/50 | Completion percentage: 66.67% | Step duration 426.82 ms/step --> loss: 5.8125\n",
      "Epoch: 17/50 | Completion percentage: 100.00% | Step duration 426.76 ms/step --> loss: 5.7812\n",
      "Epoch 17/50 | Average step duration 426.55 ms/step | Epoch duration 2419.32 ms/epoch --> loss: 5.8438 - val_loss: 5.9222\n",
      "Epoch: 18/50 | Completion percentage: 33.33% | Step duration 429.94 ms/step --> loss: 5.8125\n",
      "Epoch: 18/50 | Completion percentage: 66.67% | Step duration 425.51 ms/step --> loss: 5.7812\n",
      "Epoch: 18/50 | Completion percentage: 100.00% | Step duration 425.73 ms/step --> loss: 5.6250\n",
      "Epoch 18/50 | Average step duration 427.06 ms/step | Epoch duration 2424.28 ms/epoch --> loss: 5.7500 - val_loss: 5.8869\n",
      "Epoch: 19/50 | Completion percentage: 33.33% | Step duration 429.73 ms/step --> loss: 5.8438\n",
      "Epoch: 19/50 | Completion percentage: 66.67% | Step duration 445.99 ms/step --> loss: 5.8750\n",
      "Epoch: 19/50 | Completion percentage: 100.00% | Step duration 464.89 ms/step --> loss: 5.7812\n",
      "Epoch 19/50 | Average step duration 446.87 ms/step | Epoch duration 2466.36 ms/epoch --> loss: 5.8438 - val_loss: 5.8356\n",
      "Epoch: 20/50 | Completion percentage: 33.33% | Step duration 426.49 ms/step --> loss: 5.5938\n",
      "Epoch: 20/50 | Completion percentage: 66.67% | Step duration 426.43 ms/step --> loss: 5.6875\n",
      "Epoch: 20/50 | Completion percentage: 100.00% | Step duration 425.72 ms/step --> loss: 5.8125\n",
      "Epoch 20/50 | Average step duration 426.21 ms/step | Epoch duration 2425.82 ms/epoch --> loss: 5.6562 - val_loss: 5.8247\n",
      "Epoch: 21/50 | Completion percentage: 33.33% | Step duration 428.09 ms/step --> loss: 5.8438\n",
      "Epoch: 21/50 | Completion percentage: 66.67% | Step duration 426.51 ms/step --> loss: 5.8125\n",
      "Epoch: 21/50 | Completion percentage: 100.00% | Step duration 425.34 ms/step --> loss: 5.6250\n",
      "Epoch 21/50 | Average step duration 426.65 ms/step | Epoch duration 2429.69 ms/epoch --> loss: 5.7500 - val_loss: 5.7252\n",
      "Epoch: 22/50 | Completion percentage: 33.33% | Step duration 423.32 ms/step --> loss: 5.5625\n",
      "Epoch: 22/50 | Completion percentage: 66.67% | Step duration 429.45 ms/step --> loss: 5.6250\n",
      "Epoch: 22/50 | Completion percentage: 100.00% | Step duration 425.81 ms/step --> loss: 5.5312\n",
      "Epoch 22/50 | Average step duration 426.19 ms/step | Epoch duration 2411.71 ms/epoch --> loss: 5.5938 - val_loss: 5.7238\n",
      "Epoch: 23/50 | Completion percentage: 33.33% | Step duration 424.88 ms/step --> loss: 5.5625\n",
      "Epoch: 23/50 | Completion percentage: 66.67% | Step duration 427.06 ms/step --> loss: 5.6562\n",
      "Epoch: 23/50 | Completion percentage: 100.00% | Step duration 428.18 ms/step --> loss: 5.5625\n",
      "Epoch 23/50 | Average step duration 426.71 ms/step | Epoch duration 2431.14 ms/epoch --> loss: 5.5938 - val_loss: 5.7028\n",
      "Epoch: 24/50 | Completion percentage: 33.33% | Step duration 426.38 ms/step --> loss: 5.6250\n",
      "Epoch: 24/50 | Completion percentage: 66.67% | Step duration 424.87 ms/step --> loss: 5.6250\n",
      "Epoch: 24/50 | Completion percentage: 100.00% | Step duration 421.63 ms/step --> loss: 5.6250\n",
      "Epoch 24/50 | Average step duration 424.29 ms/step | Epoch duration 2406.95 ms/epoch --> loss: 5.6250 - val_loss: 5.6865\n",
      "Epoch: 25/50 | Completion percentage: 33.33% | Step duration 423.46 ms/step --> loss: 5.5312\n",
      "Epoch: 25/50 | Completion percentage: 66.67% | Step duration 423.68 ms/step --> loss: 5.5625\n",
      "Epoch: 25/50 | Completion percentage: 100.00% | Step duration 424.74 ms/step --> loss: 5.4375\n",
      "Epoch 25/50 | Average step duration 423.96 ms/step | Epoch duration 2406.83 ms/epoch --> loss: 5.5000 - val_loss: 5.6484\n",
      "Epoch: 26/50 | Completion percentage: 33.33% | Step duration 420.77 ms/step --> loss: 5.4375\n",
      "Epoch: 26/50 | Completion percentage: 66.67% | Step duration 423.82 ms/step --> loss: 5.5000\n",
      "Epoch: 26/50 | Completion percentage: 100.00% | Step duration 423.00 ms/step --> loss: 5.5000\n",
      "Epoch 26/50 | Average step duration 422.53 ms/step | Epoch duration 2402.15 ms/epoch --> loss: 5.5000 - val_loss: 5.5618\n",
      "Epoch: 27/50 | Completion percentage: 33.33% | Step duration 421.87 ms/step --> loss: 5.4688\n",
      "Epoch: 27/50 | Completion percentage: 66.67% | Step duration 422.43 ms/step --> loss: 5.3750\n",
      "Epoch: 27/50 | Completion percentage: 100.00% | Step duration 425.70 ms/step --> loss: 5.3125\n",
      "Epoch 27/50 | Average step duration 423.34 ms/step | Epoch duration 2400.09 ms/epoch --> loss: 5.4062 - val_loss: 5.5982\n",
      "Epoch: 28/50 | Completion percentage: 33.33% | Step duration 421.97 ms/step --> loss: 5.5000\n",
      "Epoch: 28/50 | Completion percentage: 66.67% | Step duration 424.03 ms/step --> loss: 5.5000\n",
      "Epoch: 28/50 | Completion percentage: 100.00% | Step duration 424.92 ms/step --> loss: 5.3125\n",
      "Epoch 28/50 | Average step duration 423.64 ms/step | Epoch duration 2407.05 ms/epoch --> loss: 5.4062 - val_loss: 5.4973\n",
      "Epoch: 29/50 | Completion percentage: 33.33% | Step duration 423.74 ms/step --> loss: 5.2812\n",
      "Epoch: 29/50 | Completion percentage: 66.67% | Step duration 423.90 ms/step --> loss: 5.3125\n",
      "Epoch: 29/50 | Completion percentage: 100.00% | Step duration 422.88 ms/step --> loss: 5.2500\n",
      "Epoch 29/50 | Average step duration 423.51 ms/step | Epoch duration 2426.06 ms/epoch --> loss: 5.2812 - val_loss: 5.5058\n",
      "Epoch: 30/50 | Completion percentage: 33.33% | Step duration 424.05 ms/step --> loss: 5.3125\n",
      "Epoch: 30/50 | Completion percentage: 66.67% | Step duration 422.65 ms/step --> loss: 5.4062\n",
      "Epoch: 30/50 | Completion percentage: 100.00% | Step duration 429.35 ms/step --> loss: 5.2812\n",
      "Epoch 30/50 | Average step duration 425.35 ms/step | Epoch duration 2414.86 ms/epoch --> loss: 5.3438 - val_loss: 5.4623\n",
      "Epoch: 31/50 | Completion percentage: 33.33% | Step duration 420.95 ms/step --> loss: 5.3750\n",
      "Epoch: 31/50 | Completion percentage: 66.67% | Step duration 423.44 ms/step --> loss: 5.2188\n",
      "Epoch: 31/50 | Completion percentage: 100.00% | Step duration 425.12 ms/step --> loss: 5.3750\n",
      "Epoch 31/50 | Average step duration 423.17 ms/step | Epoch duration 2402.25 ms/epoch --> loss: 5.3438 - val_loss: 5.4474\n",
      "Epoch: 32/50 | Completion percentage: 33.33% | Step duration 422.97 ms/step --> loss: 5.2500\n",
      "Epoch: 32/50 | Completion percentage: 66.67% | Step duration 422.76 ms/step --> loss: 5.2500\n",
      "Epoch: 32/50 | Completion percentage: 100.00% | Step duration 424.41 ms/step --> loss: 5.4062\n",
      "Epoch 32/50 | Average step duration 423.38 ms/step | Epoch duration 2404.11 ms/epoch --> loss: 5.2812 - val_loss: 5.4555\n",
      "Epoch: 33/50 | Completion percentage: 33.33% | Step duration 420.89 ms/step --> loss: 5.3125\n",
      "Epoch: 33/50 | Completion percentage: 66.67% | Step duration 423.89 ms/step --> loss: 5.2188\n",
      "Epoch: 33/50 | Completion percentage: 100.00% | Step duration 424.21 ms/step --> loss: 5.1875\n",
      "Epoch 33/50 | Average step duration 423.00 ms/step | Epoch duration 2403.01 ms/epoch --> loss: 5.2188 - val_loss: 5.3784\n",
      "Epoch: 34/50 | Completion percentage: 33.33% | Step duration 424.26 ms/step --> loss: 5.2500\n",
      "Epoch: 34/50 | Completion percentage: 66.67% | Step duration 422.89 ms/step --> loss: 5.2500\n",
      "Epoch: 34/50 | Completion percentage: 100.00% | Step duration 423.42 ms/step --> loss: 5.3125\n",
      "Epoch 34/50 | Average step duration 423.53 ms/step | Epoch duration 2425.76 ms/epoch --> loss: 5.2812 - val_loss: 5.4402\n",
      "Epoch: 35/50 | Completion percentage: 33.33% | Step duration 423.13 ms/step --> loss: 5.4062\n",
      "Epoch: 35/50 | Completion percentage: 66.67% | Step duration 423.47 ms/step --> loss: 5.1562\n",
      "Epoch: 35/50 | Completion percentage: 100.00% | Step duration 423.68 ms/step --> loss: 5.2812\n",
      "Epoch 35/50 | Average step duration 423.42 ms/step | Epoch duration 2416.18 ms/epoch --> loss: 5.2812 - val_loss: 5.3213\n",
      "Epoch: 36/50 | Completion percentage: 33.33% | Step duration 423.83 ms/step --> loss: 5.1250\n",
      "Epoch: 36/50 | Completion percentage: 66.67% | Step duration 424.02 ms/step --> loss: 5.3438\n",
      "Epoch: 36/50 | Completion percentage: 100.00% | Step duration 422.88 ms/step --> loss: 5.1875\n",
      "Epoch 36/50 | Average step duration 423.58 ms/step | Epoch duration 2402.77 ms/epoch --> loss: 5.2188 - val_loss: 5.3363\n",
      "Epoch: 37/50 | Completion percentage: 33.33% | Step duration 427.56 ms/step --> loss: 5.1875\n",
      "Epoch: 37/50 | Completion percentage: 66.67% | Step duration 424.22 ms/step --> loss: 5.0312\n",
      "Epoch: 37/50 | Completion percentage: 100.00% | Step duration 424.65 ms/step --> loss: 5.1562\n",
      "Epoch 37/50 | Average step duration 425.48 ms/step | Epoch duration 2409.77 ms/epoch --> loss: 5.1250 - val_loss: 5.2649\n",
      "Epoch: 38/50 | Completion percentage: 33.33% | Step duration 423.16 ms/step --> loss: 5.1562\n",
      "Epoch: 38/50 | Completion percentage: 66.67% | Step duration 423.84 ms/step --> loss: 5.3125\n",
      "Epoch: 38/50 | Completion percentage: 100.00% | Step duration 423.49 ms/step --> loss: 5.0625\n",
      "Epoch 38/50 | Average step duration 423.50 ms/step | Epoch duration 2417.26 ms/epoch --> loss: 5.1875 - val_loss: 5.2432\n",
      "Epoch: 39/50 | Completion percentage: 33.33% | Step duration 425.93 ms/step --> loss: 5.1250\n",
      "Epoch: 39/50 | Completion percentage: 66.67% | Step duration 425.18 ms/step --> loss: 5.0938\n",
      "Epoch: 39/50 | Completion percentage: 100.00% | Step duration 423.81 ms/step --> loss: 5.2812\n",
      "Epoch 39/50 | Average step duration 424.97 ms/step | Epoch duration 2409.08 ms/epoch --> loss: 5.1562 - val_loss: 5.2955\n",
      "Epoch: 40/50 | Completion percentage: 33.33% | Step duration 426.15 ms/step --> loss: 5.0938\n",
      "Epoch: 40/50 | Completion percentage: 66.67% | Step duration 449.70 ms/step --> loss: 5.0625\n",
      "Epoch: 40/50 | Completion percentage: 100.00% | Step duration 422.31 ms/step --> loss: 5.1562\n",
      "Epoch 40/50 | Average step duration 432.72 ms/step | Epoch duration 2428.67 ms/epoch --> loss: 5.0938 - val_loss: 5.2632\n",
      "Epoch: 41/50 | Completion percentage: 33.33% | Step duration 422.26 ms/step --> loss: 5.0000\n",
      "Epoch: 41/50 | Completion percentage: 66.67% | Step duration 425.03 ms/step --> loss: 5.1875\n",
      "Epoch: 41/50 | Completion percentage: 100.00% | Step duration 424.67 ms/step --> loss: 5.1250\n",
      "Epoch 41/50 | Average step duration 423.99 ms/step | Epoch duration 2420.27 ms/epoch --> loss: 5.0938 - val_loss: 5.2463\n",
      "Epoch: 42/50 | Completion percentage: 33.33% | Step duration 424.57 ms/step --> loss: 5.1562\n",
      "Epoch: 42/50 | Completion percentage: 66.67% | Step duration 424.50 ms/step --> loss: 5.0000\n",
      "Epoch: 42/50 | Completion percentage: 100.00% | Step duration 427.01 ms/step --> loss: 5.0625\n",
      "Epoch 42/50 | Average step duration 425.36 ms/step | Epoch duration 2410.80 ms/epoch --> loss: 5.0625 - val_loss: 5.2140\n",
      "Epoch: 43/50 | Completion percentage: 33.33% | Step duration 422.03 ms/step --> loss: 5.0312\n",
      "Epoch: 43/50 | Completion percentage: 66.67% | Step duration 425.43 ms/step --> loss: 4.9688\n",
      "Epoch: 43/50 | Completion percentage: 100.00% | Step duration 419.96 ms/step --> loss: 4.9062\n",
      "Epoch 43/50 | Average step duration 422.47 ms/step | Epoch duration 2397.86 ms/epoch --> loss: 4.9688 - val_loss: 5.1970\n",
      "Epoch: 44/50 | Completion percentage: 33.33% | Step duration 421.06 ms/step --> loss: 5.0938\n",
      "Epoch: 44/50 | Completion percentage: 66.67% | Step duration 421.10 ms/step --> loss: 5.1875\n",
      "Epoch: 44/50 | Completion percentage: 100.00% | Step duration 424.45 ms/step --> loss: 5.0312\n",
      "Epoch 44/50 | Average step duration 422.20 ms/step | Epoch duration 2399.45 ms/epoch --> loss: 5.0938 - val_loss: 5.2058\n",
      "Epoch: 45/50 | Completion percentage: 33.33% | Step duration 423.36 ms/step --> loss: 4.9375\n",
      "Epoch: 45/50 | Completion percentage: 66.67% | Step duration 423.56 ms/step --> loss: 5.0625\n",
      "Epoch: 45/50 | Completion percentage: 100.00% | Step duration 423.76 ms/step --> loss: 5.0938\n",
      "Epoch 45/50 | Average step duration 423.56 ms/step | Epoch duration 2403.79 ms/epoch --> loss: 5.0312 - val_loss: 5.1158\n",
      "Epoch: 46/50 | Completion percentage: 33.33% | Step duration 420.49 ms/step --> loss: 5.3125\n",
      "Epoch: 46/50 | Completion percentage: 66.67% | Step duration 449.65 ms/step --> loss: 4.9375\n",
      "Epoch: 46/50 | Completion percentage: 100.00% | Step duration 422.59 ms/step --> loss: 5.0312\n",
      "Epoch 46/50 | Average step duration 430.91 ms/step | Epoch duration 2438.26 ms/epoch --> loss: 5.0938 - val_loss: 5.1264\n",
      "Epoch: 47/50 | Completion percentage: 33.33% | Step duration 426.43 ms/step --> loss: 5.0000\n",
      "Epoch: 47/50 | Completion percentage: 66.67% | Step duration 424.25 ms/step --> loss: 5.0000\n",
      "Epoch: 47/50 | Completion percentage: 100.00% | Step duration 424.93 ms/step --> loss: 5.0312\n",
      "Epoch 47/50 | Average step duration 425.20 ms/step | Epoch duration 2408.44 ms/epoch --> loss: 5.0000 - val_loss: 5.1722\n",
      "Epoch: 48/50 | Completion percentage: 33.33% | Step duration 422.96 ms/step --> loss: 5.0312\n",
      "Epoch: 48/50 | Completion percentage: 66.67% | Step duration 426.03 ms/step --> loss: 5.0000\n",
      "Epoch: 48/50 | Completion percentage: 100.00% | Step duration 424.74 ms/step --> loss: 5.1250\n",
      "Epoch 48/50 | Average step duration 424.58 ms/step | Epoch duration 2412.84 ms/epoch --> loss: 5.0312 - val_loss: 5.0863\n",
      "Epoch: 49/50 | Completion percentage: 33.33% | Step duration 424.63 ms/step --> loss: 4.8750\n",
      "Epoch: 49/50 | Completion percentage: 66.67% | Step duration 424.48 ms/step --> loss: 5.0000\n",
      "Epoch: 49/50 | Completion percentage: 100.00% | Step duration 425.08 ms/step --> loss: 5.0000\n",
      "Epoch 49/50 | Average step duration 424.73 ms/step | Epoch duration 2407.02 ms/epoch --> loss: 4.9688 - val_loss: 5.1067\n",
      "Epoch: 50/50 | Completion percentage: 33.33% | Step duration 427.38 ms/step --> loss: 5.0000\n",
      "Epoch: 50/50 | Completion percentage: 66.67% | Step duration 424.28 ms/step --> loss: 5.0312\n",
      "Epoch: 50/50 | Completion percentage: 100.00% | Step duration 423.99 ms/step --> loss: 4.8438\n",
      "Epoch 50/50 | Average step duration 425.22 ms/step | Epoch duration 2408.00 ms/epoch --> loss: 4.9688 - val_loss: 5.0924\n"
     ]
    }
   ],
   "source": [
    "# Fitting the model\n",
    "gpt2.fit(\n",
    "    data_loader = data_loader,\n",
    "    epochs = epochs,\n",
    "    lr = learning_rate,\n",
    "    batch_size = batch_size,\n",
    "    micro_batch_size = micro_batch_size,\n",
    "    sequence_length = sequence_length\n",
    ")"
   ]
  },
  {
   "cell_type": "code",
   "execution_count": 10,
   "metadata": {},
   "outputs": [
    {
     "name": "stdout",
     "output_type": "stream",
     "text": [
      "the state of the e lata;\n",
      "per sidi in suo ongito se sia\n",
      "Non viel, e la vchi'io fu de' mi se virto mu'an quel me loto sotto me da rcper tavaltaravei sper vanna mi Delli vannancCome tunra vollo lecchi vNon quesscli vidi sidi con la vper vien le vperanduinavavaltaveattoltella vora l'appalaccaggacc'alt malavum vcorcelel terunai fostnel melli quchi vlelivascista dche terunanindiame tutandel valanalappaveel margnelgnostchi l'io in maura percche sugnerombcIadi se vidi vchi cederan\n"
     ]
    }
   ],
   "source": [
    "# Encode the context using the tokenizer and convert it to a tensor\n",
    "context = \"the state of the\"\n",
    "context = torch.tensor(tokenizer.encode(context), dtype=torch.long).unsqueeze(0)\n",
    "context = context.to(device) # Move the tensor to the GPU if available\n",
    "\n",
    "# Decode and display the generated text\n",
    "print(tokenizer.decode(gpt2.generate(context, max_new_tokens=200).squeeze().tolist()))"
   ]
  }
 ],
 "metadata": {
  "kernelspec": {
   "display_name": "venv",
   "language": "python",
   "name": "python3"
  },
  "language_info": {
   "codemirror_mode": {
    "name": "ipython",
    "version": 3
   },
   "file_extension": ".py",
   "mimetype": "text/x-python",
   "name": "python",
   "nbconvert_exporter": "python",
   "pygments_lexer": "ipython3",
   "version": "3.11.11"
  }
 },
 "nbformat": 4,
 "nbformat_minor": 2
}
