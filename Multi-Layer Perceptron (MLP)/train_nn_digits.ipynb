{
 "cells": [
  {
   "cell_type": "code",
   "execution_count": 33,
   "metadata": {},
   "outputs": [],
   "source": [
    "\n",
    "import os\n",
    "import sys\n",
    "import torch\n",
    "import numpy as np\n",
    "import torch.nn as nn\n",
    "import torch.nn.functional as F\n",
    "import matplotlib.pyplot as plt\n",
    "from sklearn.datasets import load_digits\n",
    "from sklearn.model_selection import train_test_split\n",
    "\n",
    "sys.path.append(\"..\")\n",
    "\n",
    "from src import metrics, callbacks\n",
    "from src.utils import data_analysis\n",
    "from src.architectures.sequential import Sequential"
   ]
  },
  {
   "cell_type": "markdown",
   "metadata": {},
   "source": [
    "### Constants and Hyperparameters"
   ]
  },
  {
   "cell_type": "code",
   "execution_count": 34,
   "metadata": {},
   "outputs": [],
   "source": [
    "# Path to where the model will be saved\n",
    "model_path = os.path.join(os.getcwd(), 'checkpoints', 'digits_classifier.pt')\n",
    "\n",
    "# Create a directory for the model if it doesn't exist\n",
    "os.makedirs(os.path.dirname(model_path), exist_ok=True)"
   ]
  },
  {
   "cell_type": "code",
   "execution_count": 35,
   "metadata": {},
   "outputs": [],
   "source": [
    "train_test_split_pct = 0.2 # Percentage of samples to use for testing\n",
    "train_valid_split = 0.2 # Percentage of samples to use for validation\n",
    "learning_rate = 1e-3 # Learning rate for the optimizer\n",
    "batch_size = 16 # Number of samples to use for each batch\n",
    "epochs = 500 # Number of epochs to train the model\n",
    "seed = 1337 # Seed for reproducibility"
   ]
  },
  {
   "cell_type": "code",
   "execution_count": 36,
   "metadata": {},
   "outputs": [],
   "source": [
    "# Set the seed for reproducibility\n",
    "torch.manual_seed(seed);"
   ]
  },
  {
   "cell_type": "markdown",
   "metadata": {},
   "source": [
    "### Data loading"
   ]
  },
  {
   "cell_type": "code",
   "execution_count": 37,
   "metadata": {},
   "outputs": [
    {
     "name": "stdout",
     "output_type": "stream",
     "text": [
      "Number of classes: 10\n",
      "Training set: (1149, 64) (1149,)\n",
      "Validation set: (288, 64) (288,)\n",
      "Testing set: (360, 64) (360,)\n"
     ]
    }
   ],
   "source": [
    "# Load the digits dataset\n",
    "digits = load_digits()\n",
    "\n",
    "# Extract the number of classes in the dataset\n",
    "num_classes = len(np.unique(digits['target'])) # type: ignore\n",
    "\n",
    "# Extract the input and output data\n",
    "data = np.array(digits.get(\"data\", [])) # type: ignore\n",
    "labels = np.array(digits.get(\"target\", [])) # type: ignore\n",
    "\n",
    "\n",
    "# Split the dataset into training, validation, and testing sets\n",
    "X_train, X_test, y_train, y_test = train_test_split(data, labels, test_size=train_test_split_pct, shuffle=True)\n",
    "X_train, X_valid, y_train, y_valid = train_test_split(X_train, y_train, test_size=train_valid_split, shuffle=True)\n",
    "\n",
    "# Print the dataset information\n",
    "print(\"Number of classes:\", num_classes)\n",
    "print('Training set:', X_train.shape, y_train.shape)\n",
    "print('Validation set:', X_valid.shape, y_valid.shape)\n",
    "print('Testing set:', X_test.shape, y_test.shape)"
   ]
  },
  {
   "cell_type": "code",
   "execution_count": 38,
   "metadata": {},
   "outputs": [],
   "source": [
    "# Convert the data to PyTorch tensors\n",
    "X_train = torch.tensor(X_train, dtype=torch.float32)\n",
    "y_train = torch.tensor(y_train, dtype=torch.long)\n",
    "X_valid = torch.tensor(X_valid, dtype=torch.float32)\n",
    "y_valid = torch.tensor(y_valid, dtype=torch.long)\n",
    "X_test = torch.tensor(X_test, dtype=torch.float32)\n",
    "y_test = torch.tensor(y_test, dtype=torch.long)"
   ]
  },
  {
   "cell_type": "markdown",
   "metadata": {},
   "source": [
    "### Data Preprocessing"
   ]
  },
  {
   "cell_type": "code",
   "execution_count": 39,
   "metadata": {},
   "outputs": [],
   "source": [
    "# Normalization\n",
    "def normalize(X: torch.Tensor) -> torch.Tensor:\n",
    "    \"\"\"\n",
    "    Normalize the input data by dividing by the maximum value in the training set.\n",
    "    \n",
    "    Parameters:\n",
    "    - X (Tensor): The input data to normalize\n",
    "    \n",
    "    Returns:\n",
    "    - Tensor: The normalized input data\n",
    "    \"\"\"\n",
    "    \n",
    "    # Normalize the input data\n",
    "    return X / 255.0\n",
    "\n",
    "# Normalize the input data\n",
    "X_train = normalize(X_train)\n",
    "X_valid = normalize(X_valid)\n",
    "X_test = normalize(X_test)"
   ]
  },
  {
   "cell_type": "code",
   "execution_count": 40,
   "metadata": {},
   "outputs": [
    {
     "name": "stdout",
     "output_type": "stream",
     "text": [
      "Sample target value: 4\n",
      "One-hot encoded value: tensor([0, 0, 0, 0, 1, 0, 0, 0, 0, 0])\n"
     ]
    }
   ],
   "source": [
    "# Convert the target values to one-hot encoded vectors\n",
    "y_train_encoded = F.one_hot(y_train, num_classes=num_classes)\n",
    "y_valid_encoded = F.one_hot(y_valid, num_classes=num_classes)\n",
    "\n",
    "# Print one sample encoding\n",
    "print(\"Sample target value:\", y_train[0].item())\n",
    "print(\"One-hot encoded value:\", y_train_encoded[0])"
   ]
  },
  {
   "cell_type": "markdown",
   "metadata": {},
   "source": [
    "### Data visualization"
   ]
  },
  {
   "cell_type": "code",
   "execution_count": 41,
   "metadata": {},
   "outputs": [
    {
     "data": {
      "image/png": "[encoded data removed]",
      "text/plain": [
       "<Figure size 2000x500 with 10 Axes>"
      ]
     },
     "metadata": {},
     "output_type": "display_data"
    }
   ],
   "source": [
    "def plot_samples(samples: list[np.ndarray], labels: list[np.ndarray]) -> None:\n",
    "    \"\"\"\n",
    "    Plot the samples in a grid.\n",
    "    \n",
    "    Parameters:\n",
    "    - samples (list[np.ndarray]): The samples to plot\n",
    "    - labels (list[np.ndarray]): The labels of the samples\n",
    "    \"\"\"\n",
    "    \n",
    "    # Create a list to store the reshaped samples\n",
    "    reshaped_samples = []\n",
    "    \n",
    "    # Iterate over the samples\n",
    "    for sample in samples:\n",
    "        # Compute the new shape\n",
    "        new_shape = np.sqrt(sample.shape).astype(int)[0]\n",
    "        \n",
    "        # Reshape the sample\n",
    "        sample = sample.reshape(new_shape, new_shape)\n",
    "        \n",
    "        # Append the reshaped sample\n",
    "        reshaped_samples.append(sample)\n",
    "        \n",
    "    # Plot the samples in a grid\n",
    "    _, axes = plt.subplots(1, len(samples), figsize=(20, 5))\n",
    "    for i, ax in enumerate(axes):\n",
    "        ax.imshow(reshaped_samples[i], cmap='gray')\n",
    "        ax.set_title(f'Label: {labels[i]}')\n",
    "        ax.axis('off')\n",
    "        \n",
    "        \n",
    "# Plot the first 10 samples\n",
    "plot_samples(list(X_train.numpy()[:10]), list(y_train.numpy()[:10]))"
   ]
  },
  {
   "cell_type": "markdown",
   "metadata": {},
   "source": [
    "### Building the model"
   ]
  },
  {
   "cell_type": "code",
   "execution_count": 42,
   "metadata": {},
   "outputs": [],
   "source": [
    "\n",
    "model = Sequential(\n",
    "    nn.Linear(in_features=X_train.shape[1], out_features=24),\n",
    "    nn.ReLU(),\n",
    "    nn.Dropout(p=0.1),\n",
    "    nn.Linear(in_features=24, out_features=32),\n",
    "    nn.ReLU(),\n",
    "    nn.Dropout(p=0.1),\n",
    "    nn.Linear(in_features=32, out_features=12),\n",
    "    nn.Tanh(),\n",
    "    nn.Dropout(p=0.1),\n",
    "    nn.Linear(in_features=12, out_features=num_classes),\n",
    "    nn.Softmax(dim=1)\n",
    ")\n",
    "\n",
    "# Initialize the optimizer\n",
    "optimizer = torch.optim.AdamW(model.parameters(), lr=learning_rate)\n",
    "\n",
    "# Initialize the loss function\n",
    "loss_fn = nn.CrossEntropyLoss()"
   ]
  },
  {
   "cell_type": "markdown",
   "metadata": {},
   "source": [
    "### Initializing the model"
   ]
  },
  {
   "cell_type": "code",
   "execution_count": 43,
   "metadata": {},
   "outputs": [
    {
     "data": {
      "text/plain": [
       "Sequential(\n",
       "  (0): Linear(in_features=64, out_features=24, bias=True)\n",
       "  (1): ReLU()\n",
       "  (2): Dropout(p=0.1, inplace=False)\n",
       "  (3): Linear(in_features=24, out_features=32, bias=True)\n",
       "  (4): ReLU()\n",
       "  (5): Dropout(p=0.1, inplace=False)\n",
       "  (6): Linear(in_features=32, out_features=12, bias=True)\n",
       "  (7): Tanh()\n",
       "  (8): Dropout(p=0.1, inplace=False)\n",
       "  (9): Linear(in_features=12, out_features=10, bias=True)\n",
       "  (10): Softmax(dim=1)\n",
       ")"
      ]
     },
     "execution_count": 43,
     "metadata": {},
     "output_type": "execute_result"
    }
   ],
   "source": [
    "# Display the model summary\n",
    "model"
   ]
  },
  {
   "cell_type": "markdown",
   "metadata": {},
   "source": [
    "### Training the model"
   ]
  },
  {
   "cell_type": "code",
   "execution_count": 44,
   "metadata": {},
   "outputs": [
    {
     "name": "stdout",
     "output_type": "stream",
     "text": [
      "Epoch 1/500 --> loss: 2.3028 - accuracy: 0.0939 | Validation loss: 2.3021 - Validation accuracy: 0.1146                     \n",
      "Epoch 2/500 --> loss: 2.3021 - accuracy: 0.1167 | Validation loss: 2.3015 - Validation accuracy: 0.1007                     \n",
      "Epoch 3/500 --> loss: 2.2998 - accuracy: 0.1688 | Validation loss: 2.2971 - Validation accuracy: 0.2083                     \n",
      "Epoch 4/500 --> loss: 2.2827 - accuracy: 0.2396 | Validation loss: 2.2615 - Validation accuracy: 0.1979                     \n",
      "Epoch 5/500 --> loss: 2.2297 - accuracy: 0.2159 | Validation loss: 2.2189 - Validation accuracy: 0.1840                     \n",
      "Epoch 6/500 --> loss: 2.1998 - accuracy: 0.2259 | Validation loss: 2.2006 - Validation accuracy: 0.2326                     \n",
      "Epoch 7/500 --> loss: 2.1807 - accuracy: 0.2746 | Validation loss: 2.1792 - Validation accuracy: 0.3125                     \n",
      "Epoch 8/500 --> loss: 2.1548 - accuracy: 0.3504 | Validation loss: 2.1268 - Validation accuracy: 0.4549                     \n",
      "Epoch 9/500 --> loss: 2.1048 - accuracy: 0.4342 | Validation loss: 2.0741 - Validation accuracy: 0.4792                     \n",
      "Epoch 10/500 --> loss: 2.0675 - accuracy: 0.4583 | Validation loss: 2.0412 - Validation accuracy: 0.4861                     \n",
      "Epoch 11/500 --> loss: 2.0382 - accuracy: 0.4849 | Validation loss: 2.0153 - Validation accuracy: 0.4826                     \n",
      "Epoch 12/500 --> loss: 2.0214 - accuracy: 0.4798 | Validation loss: 1.9940 - Validation accuracy: 0.4931                     \n",
      "Epoch 13/500 --> loss: 2.0019 - accuracy: 0.4864 | Validation loss: 1.9788 - Validation accuracy: 0.4896                     \n",
      "Epoch 14/500 --> loss: 1.9863 - accuracy: 0.5003 | Validation loss: 1.9688 - Validation accuracy: 0.4931                     \n",
      "Epoch 15/500 --> loss: 1.9699 - accuracy: 0.5222 | Validation loss: 1.9480 - Validation accuracy: 0.5347                     \n",
      "Epoch 16/500 --> loss: 1.9501 - accuracy: 0.5483 | Validation loss: 1.9221 - Validation accuracy: 0.5833                     \n",
      "Epoch 17/500 --> loss: 1.9300 - accuracy: 0.5749 | Validation loss: 1.8952 - Validation accuracy: 0.6042                     \n",
      "Epoch 18/500 --> loss: 1.9100 - accuracy: 0.5828 | Validation loss: 1.8833 - Validation accuracy: 0.6111                     \n",
      "Epoch 19/500 --> loss: 1.8936 - accuracy: 0.6047 | Validation loss: 1.8757 - Validation accuracy: 0.6146                     \n",
      "Epoch 20/500 --> loss: 1.8911 - accuracy: 0.6021 | Validation loss: 1.8655 - Validation accuracy: 0.6285                     \n",
      "Epoch 21/500 --> loss: 1.8817 - accuracy: 0.6209 | Validation loss: 1.8607 - Validation accuracy: 0.6424                     \n",
      "Epoch 22/500 --> loss: 1.8667 - accuracy: 0.6372 | Validation loss: 1.8533 - Validation accuracy: 0.6493                     \n",
      "Epoch 23/500 --> loss: 1.8594 - accuracy: 0.6502 | Validation loss: 1.8481 - Validation accuracy: 0.6597                     \n",
      "Epoch 24/500 --> loss: 1.8531 - accuracy: 0.6518 | Validation loss: 1.8430 - Validation accuracy: 0.6562                     \n",
      "Epoch 25/500 --> loss: 1.8420 - accuracy: 0.6657 | Validation loss: 1.8357 - Validation accuracy: 0.6528                     \n",
      "Epoch 26/500 --> loss: 1.8351 - accuracy: 0.6824 | Validation loss: 1.8302 - Validation accuracy: 0.6597                     \n",
      "Epoch 27/500 --> loss: 1.8272 - accuracy: 0.6904 | Validation loss: 1.8253 - Validation accuracy: 0.6771                     \n",
      "Epoch 28/500 --> loss: 1.8231 - accuracy: 0.6841 | Validation loss: 1.8220 - Validation accuracy: 0.6875                     \n",
      "Epoch 29/500 --> loss: 1.8223 - accuracy: 0.6940 | Validation loss: 1.8103 - Validation accuracy: 0.7118                     \n",
      "Epoch 30/500 --> loss: 1.8126 - accuracy: 0.6936 | Validation loss: 1.8061 - Validation accuracy: 0.7153                     \n",
      "Epoch 31/500 --> loss: 1.8098 - accuracy: 0.6973 | Validation loss: 1.8058 - Validation accuracy: 0.7014                     \n",
      "Epoch 32/500 --> loss: 1.7992 - accuracy: 0.7157 | Validation loss: 1.7947 - Validation accuracy: 0.7153                     \n",
      "Epoch 33/500 --> loss: 1.7914 - accuracy: 0.7284 | Validation loss: 1.7915 - Validation accuracy: 0.7014                     \n",
      "Epoch 34/500 --> loss: 1.7951 - accuracy: 0.7117 | Validation loss: 1.7861 - Validation accuracy: 0.7188                     \n",
      "Epoch 35/500 --> loss: 1.7920 - accuracy: 0.7175 | Validation loss: 1.7805 - Validation accuracy: 0.7222                     \n",
      "Epoch 36/500 --> loss: 1.7781 - accuracy: 0.7284 | Validation loss: 1.7746 - Validation accuracy: 0.7292                     \n",
      "Epoch 37/500 --> loss: 1.7815 - accuracy: 0.7248 | Validation loss: 1.7693 - Validation accuracy: 0.7292                     \n",
      "Epoch 38/500 --> loss: 1.7716 - accuracy: 0.7388 | Validation loss: 1.7628 - Validation accuracy: 0.7465                     \n",
      "Epoch 39/500 --> loss: 1.7727 - accuracy: 0.7383 | Validation loss: 1.7640 - Validation accuracy: 0.7361                     \n",
      "Epoch 40/500 --> loss: 1.7632 - accuracy: 0.7353 | Validation loss: 1.7581 - Validation accuracy: 0.7326                     \n",
      "Epoch 41/500 --> loss: 1.7564 - accuracy: 0.7475 | Validation loss: 1.7483 - Validation accuracy: 0.7569                     \n",
      "Epoch 42/500 --> loss: 1.7529 - accuracy: 0.7563 | Validation loss: 1.7442 - Validation accuracy: 0.7639                     \n",
      "Epoch 43/500 --> loss: 1.7496 - accuracy: 0.7479 | Validation loss: 1.7498 - Validation accuracy: 0.7500                     \n",
      "Epoch 44/500 --> loss: 1.7611 - accuracy: 0.7384 | Validation loss: 1.7477 - Validation accuracy: 0.7465                     \n",
      "Epoch 45/500 --> loss: 1.7450 - accuracy: 0.7616 | Validation loss: 1.7383 - Validation accuracy: 0.7535                     \n",
      "Epoch 46/500 --> loss: 1.7425 - accuracy: 0.7537 | Validation loss: 1.7425 - Validation accuracy: 0.7431                     \n",
      "Epoch 47/500 --> loss: 1.7458 - accuracy: 0.7568 | Validation loss: 1.7378 - Validation accuracy: 0.7535                     \n",
      "Epoch 48/500 --> loss: 1.7339 - accuracy: 0.7760 | Validation loss: 1.7325 - Validation accuracy: 0.7535                     \n",
      "Epoch 49/500 --> loss: 1.7287 - accuracy: 0.7687 | Validation loss: 1.7309 - Validation accuracy: 0.7500                     \n",
      "Epoch 50/500 --> loss: 1.7251 - accuracy: 0.7737 | Validation loss: 1.7257 - Validation accuracy: 0.7604                     \n",
      "Epoch 51/500 --> loss: 1.7224 - accuracy: 0.7720 | Validation loss: 1.7252 - Validation accuracy: 0.7674                     \n",
      "Epoch 52/500 --> loss: 1.7249 - accuracy: 0.7664 | Validation loss: 1.7223 - Validation accuracy: 0.7639                     \n",
      "Epoch 53/500 --> loss: 1.7235 - accuracy: 0.7687 | Validation loss: 1.7161 - Validation accuracy: 0.7708                     \n",
      "Epoch 54/500 --> loss: 1.7297 - accuracy: 0.7570 | Validation loss: 1.7131 - Validation accuracy: 0.7639                     \n",
      "Epoch 55/500 --> loss: 1.7217 - accuracy: 0.7698 | Validation loss: 1.7156 - Validation accuracy: 0.7708                     \n",
      "Epoch 56/500 --> loss: 1.7106 - accuracy: 0.7841 | Validation loss: 1.7129 - Validation accuracy: 0.7674                     \n",
      "Epoch 57/500 --> loss: 1.7145 - accuracy: 0.7793 | Validation loss: 1.7116 - Validation accuracy: 0.7674                     \n",
      "Epoch 58/500 --> loss: 1.7052 - accuracy: 0.7863 | Validation loss: 1.7133 - Validation accuracy: 0.7708                     \n",
      "Epoch 59/500 --> loss: 1.7036 - accuracy: 0.7852 | Validation loss: 1.7056 - Validation accuracy: 0.7812                     \n",
      "Epoch 60/500 --> loss: 1.7139 - accuracy: 0.7772 | Validation loss: 1.7019 - Validation accuracy: 0.7812                     \n",
      "Epoch 61/500 --> loss: 1.7004 - accuracy: 0.7911 | Validation loss: 1.7036 - Validation accuracy: 0.7778                     \n",
      "Epoch 62/500 --> loss: 1.7070 - accuracy: 0.7828 | Validation loss: 1.6983 - Validation accuracy: 0.7812                     \n",
      "Epoch 63/500 --> loss: 1.6973 - accuracy: 0.7871 | Validation loss: 1.6969 - Validation accuracy: 0.7882                     \n",
      "Epoch 64/500 --> loss: 1.6928 - accuracy: 0.7947 | Validation loss: 1.6995 - Validation accuracy: 0.7882                     \n",
      "Epoch 65/500 --> loss: 1.6971 - accuracy: 0.7913 | Validation loss: 1.7019 - Validation accuracy: 0.7847                     \n",
      "Epoch 66/500 --> loss: 1.6912 - accuracy: 0.7954 | Validation loss: 1.6976 - Validation accuracy: 0.7882                     \n",
      "Epoch 67/500 --> loss: 1.6902 - accuracy: 0.7976 | Validation loss: 1.6928 - Validation accuracy: 0.7847                     \n",
      "Epoch 68/500 --> loss: 1.6867 - accuracy: 0.8026 | Validation loss: 1.6927 - Validation accuracy: 0.7812                     \n",
      "Epoch 69/500 --> loss: 1.6806 - accuracy: 0.8069 | Validation loss: 1.6845 - Validation accuracy: 0.7951                     \n",
      "Epoch 70/500 --> loss: 1.6922 - accuracy: 0.7878 | Validation loss: 1.6892 - Validation accuracy: 0.7882                     \n",
      "Epoch 71/500 --> loss: 1.6862 - accuracy: 0.8045 | Validation loss: 1.6943 - Validation accuracy: 0.7882                     \n",
      "Epoch 72/500 --> loss: 1.6788 - accuracy: 0.8069 | Validation loss: 1.6833 - Validation accuracy: 0.7986                     \n",
      "Epoch 73/500 --> loss: 1.6794 - accuracy: 0.8039 | Validation loss: 1.6817 - Validation accuracy: 0.7951                     \n",
      "Epoch 74/500 --> loss: 1.6716 - accuracy: 0.8162 | Validation loss: 1.6844 - Validation accuracy: 0.7882                     \n",
      "Epoch 75/500 --> loss: 1.6759 - accuracy: 0.8088 | Validation loss: 1.6847 - Validation accuracy: 0.7951                     \n",
      "Epoch 76/500 --> loss: 1.6727 - accuracy: 0.8136 | Validation loss: 1.6810 - Validation accuracy: 0.7882                     \n",
      "Epoch 77/500 --> loss: 1.6745 - accuracy: 0.7965 | Validation loss: 1.6783 - Validation accuracy: 0.7951                     \n",
      "Epoch 78/500 --> loss: 1.6645 - accuracy: 0.8253 | Validation loss: 1.6788 - Validation accuracy: 0.7951                     \n",
      "Epoch 79/500 --> loss: 1.6731 - accuracy: 0.8132 | Validation loss: 1.6764 - Validation accuracy: 0.7951                     \n",
      "Epoch 80/500 --> loss: 1.6704 - accuracy: 0.8106 | Validation loss: 1.6772 - Validation accuracy: 0.7951                     \n",
      "Epoch 81/500 --> loss: 1.6709 - accuracy: 0.8113 | Validation loss: 1.6738 - Validation accuracy: 0.7951                     \n",
      "Epoch 82/500 --> loss: 1.6701 - accuracy: 0.8160 | Validation loss: 1.6722 - Validation accuracy: 0.7986                     \n",
      "Epoch 83/500 --> loss: 1.6663 - accuracy: 0.8145 | Validation loss: 1.6715 - Validation accuracy: 0.7986                     \n",
      "Epoch 84/500 --> loss: 1.6637 - accuracy: 0.8141 | Validation loss: 1.6696 - Validation accuracy: 0.7986                     \n",
      "Epoch 85/500 --> loss: 1.6549 - accuracy: 0.8260 | Validation loss: 1.6672 - Validation accuracy: 0.8021                     \n",
      "Epoch 86/500 --> loss: 1.6546 - accuracy: 0.8305 | Validation loss: 1.6695 - Validation accuracy: 0.8021                     \n",
      "Epoch 87/500 --> loss: 1.6655 - accuracy: 0.8138 | Validation loss: 1.6784 - Validation accuracy: 0.7882                     \n",
      "Epoch 88/500 --> loss: 1.6548 - accuracy: 0.8237 | Validation loss: 1.6681 - Validation accuracy: 0.8021                     \n",
      "Epoch 89/500 --> loss: 1.6599 - accuracy: 0.8192 | Validation loss: 1.6653 - Validation accuracy: 0.7986                     \n",
      "Epoch 90/500 --> loss: 1.6525 - accuracy: 0.8305 | Validation loss: 1.6695 - Validation accuracy: 0.7951                     \n",
      "Epoch 91/500 --> loss: 1.6590 - accuracy: 0.8245 | Validation loss: 1.6615 - Validation accuracy: 0.8125                     \n",
      "Epoch 92/500 --> loss: 1.6602 - accuracy: 0.8225 | Validation loss: 1.6648 - Validation accuracy: 0.8021                     \n",
      "Epoch 93/500 --> loss: 1.6510 - accuracy: 0.8295 | Validation loss: 1.6652 - Validation accuracy: 0.7986                     \n",
      "Epoch 94/500 --> loss: 1.6577 - accuracy: 0.8243 | Validation loss: 1.6744 - Validation accuracy: 0.7951                     \n",
      "Epoch 95/500 --> loss: 1.6529 - accuracy: 0.8227 | Validation loss: 1.6601 - Validation accuracy: 0.8021                     \n",
      "Epoch 96/500 --> loss: 1.6514 - accuracy: 0.8243 | Validation loss: 1.6656 - Validation accuracy: 0.7951                     \n",
      "Epoch 97/500 --> loss: 1.6438 - accuracy: 0.8416 | Validation loss: 1.6551 - Validation accuracy: 0.8090                     \n",
      "Epoch 98/500 --> loss: 1.6477 - accuracy: 0.8334 | Validation loss: 1.6472 - Validation accuracy: 0.8090                     \n",
      "Epoch 99/500 --> loss: 1.6317 - accuracy: 0.8538 | Validation loss: 1.6446 - Validation accuracy: 0.8264                     \n",
      "Epoch 100/500 --> loss: 1.6413 - accuracy: 0.8407 | Validation loss: 1.6417 - Validation accuracy: 0.8299                     \n",
      "Epoch 101/500 --> loss: 1.6374 - accuracy: 0.8462 | Validation loss: 1.6424 - Validation accuracy: 0.8090                     \n",
      "Epoch 102/500 --> loss: 1.6439 - accuracy: 0.8381 | Validation loss: 1.6372 - Validation accuracy: 0.8229                     \n",
      "Epoch 103/500 --> loss: 1.6255 - accuracy: 0.8522 | Validation loss: 1.6293 - Validation accuracy: 0.8403                     \n",
      "Epoch 104/500 --> loss: 1.6291 - accuracy: 0.8536 | Validation loss: 1.6221 - Validation accuracy: 0.8507                     \n",
      "Epoch 105/500 --> loss: 1.6257 - accuracy: 0.8551 | Validation loss: 1.6195 - Validation accuracy: 0.8611                     \n",
      "Epoch 106/500 --> loss: 1.6318 - accuracy: 0.8522 | Validation loss: 1.6065 - Validation accuracy: 0.8785                     \n",
      "Epoch 107/500 --> loss: 1.6233 - accuracy: 0.8611 | Validation loss: 1.6093 - Validation accuracy: 0.8785                     \n",
      "Epoch 108/500 --> loss: 1.6199 - accuracy: 0.8698 | Validation loss: 1.6001 - Validation accuracy: 0.8993                     \n",
      "Epoch 109/500 --> loss: 1.6215 - accuracy: 0.8626 | Validation loss: 1.6008 - Validation accuracy: 0.8854                     \n",
      "Epoch 110/500 --> loss: 1.6129 - accuracy: 0.8720 | Validation loss: 1.5960 - Validation accuracy: 0.8854                     \n",
      "Epoch 111/500 --> loss: 1.6144 - accuracy: 0.8713 | Validation loss: 1.6067 - Validation accuracy: 0.8785                     \n",
      "Epoch 112/500 --> loss: 1.6138 - accuracy: 0.8701 | Validation loss: 1.5970 - Validation accuracy: 0.8889                     \n",
      "Epoch 113/500 --> loss: 1.6217 - accuracy: 0.8620 | Validation loss: 1.5915 - Validation accuracy: 0.8924                     \n",
      "Epoch 114/500 --> loss: 1.6071 - accuracy: 0.8770 | Validation loss: 1.5923 - Validation accuracy: 0.8958                     \n",
      "Epoch 115/500 --> loss: 1.6016 - accuracy: 0.8817 | Validation loss: 1.5863 - Validation accuracy: 0.9028                     \n",
      "Epoch 116/500 --> loss: 1.5998 - accuracy: 0.8885 | Validation loss: 1.5839 - Validation accuracy: 0.9028                     \n",
      "Epoch 117/500 --> loss: 1.5995 - accuracy: 0.8845 | Validation loss: 1.5757 - Validation accuracy: 0.9132                     \n",
      "Epoch 118/500 --> loss: 1.6031 - accuracy: 0.8748 | Validation loss: 1.5795 - Validation accuracy: 0.9097                     \n",
      "Epoch 119/500 --> loss: 1.5960 - accuracy: 0.8926 | Validation loss: 1.5801 - Validation accuracy: 0.9062                     \n",
      "Epoch 120/500 --> loss: 1.5904 - accuracy: 0.8991 | Validation loss: 1.5767 - Validation accuracy: 0.9062                     \n",
      "Epoch 121/500 --> loss: 1.5998 - accuracy: 0.8841 | Validation loss: 1.5779 - Validation accuracy: 0.8993                     \n",
      "Epoch 122/500 --> loss: 1.5886 - accuracy: 0.8941 | Validation loss: 1.5795 - Validation accuracy: 0.8993                     \n",
      "Epoch 123/500 --> loss: 1.5936 - accuracy: 0.8852 | Validation loss: 1.5726 - Validation accuracy: 0.9132                     \n",
      "Epoch 124/500 --> loss: 1.5873 - accuracy: 0.9000 | Validation loss: 1.5769 - Validation accuracy: 0.9062                     \n",
      "Epoch 125/500 --> loss: 1.5832 - accuracy: 0.9034 | Validation loss: 1.5743 - Validation accuracy: 0.9028                     \n",
      "Epoch 126/500 --> loss: 1.5921 - accuracy: 0.8896 | Validation loss: 1.5684 - Validation accuracy: 0.9132                     \n",
      "Epoch 127/500 --> loss: 1.5849 - accuracy: 0.9050 | Validation loss: 1.5646 - Validation accuracy: 0.9167                     \n",
      "Epoch 128/500 --> loss: 1.5859 - accuracy: 0.9013 | Validation loss: 1.5671 - Validation accuracy: 0.9062                     \n",
      "Epoch 129/500 --> loss: 1.5763 - accuracy: 0.9041 | Validation loss: 1.5722 - Validation accuracy: 0.9062                     \n",
      "Epoch 130/500 --> loss: 1.5819 - accuracy: 0.8976 | Validation loss: 1.5638 - Validation accuracy: 0.9097                     \n",
      "Epoch 131/500 --> loss: 1.5863 - accuracy: 0.8954 | Validation loss: 1.5653 - Validation accuracy: 0.9062                     \n",
      "Epoch 132/500 --> loss: 1.5754 - accuracy: 0.9078 | Validation loss: 1.5614 - Validation accuracy: 0.9097                     \n",
      "Epoch 133/500 --> loss: 1.5770 - accuracy: 0.9097 | Validation loss: 1.5633 - Validation accuracy: 0.9132                     \n",
      "Epoch 134/500 --> loss: 1.5697 - accuracy: 0.9128 | Validation loss: 1.5644 - Validation accuracy: 0.9028                     \n",
      "Epoch 135/500 --> loss: 1.5764 - accuracy: 0.9017 | Validation loss: 1.5608 - Validation accuracy: 0.9062                     \n",
      "Epoch 136/500 --> loss: 1.5679 - accuracy: 0.9165 | Validation loss: 1.5597 - Validation accuracy: 0.9132                     \n",
      "Epoch 137/500 --> loss: 1.5707 - accuracy: 0.9093 | Validation loss: 1.5563 - Validation accuracy: 0.9167                     \n",
      "Epoch 138/500 --> loss: 1.5724 - accuracy: 0.9115 | Validation loss: 1.5583 - Validation accuracy: 0.9097                     \n",
      "Epoch 139/500 --> loss: 1.5724 - accuracy: 0.9045 | Validation loss: 1.5629 - Validation accuracy: 0.9062                     \n",
      "Epoch 140/500 --> loss: 1.5731 - accuracy: 0.9071 | Validation loss: 1.5576 - Validation accuracy: 0.9132                     \n",
      "Epoch 141/500 --> loss: 1.5622 - accuracy: 0.9175 | Validation loss: 1.5559 - Validation accuracy: 0.9167                     \n",
      "Epoch 142/500 --> loss: 1.5756 - accuracy: 0.9034 | Validation loss: 1.5533 - Validation accuracy: 0.9201                     \n",
      "Epoch 143/500 --> loss: 1.5673 - accuracy: 0.9128 | Validation loss: 1.5567 - Validation accuracy: 0.9097                     \n",
      "Epoch 144/500 --> loss: 1.5592 - accuracy: 0.9184 | Validation loss: 1.5551 - Validation accuracy: 0.9097                     \n",
      "Epoch 145/500 --> loss: 1.5617 - accuracy: 0.9193 | Validation loss: 1.5564 - Validation accuracy: 0.9062                     \n",
      "Epoch 146/500 --> loss: 1.5672 - accuracy: 0.9137 | Validation loss: 1.5579 - Validation accuracy: 0.9132                     \n",
      "Epoch 147/500 --> loss: 1.5595 - accuracy: 0.9225 | Validation loss: 1.5558 - Validation accuracy: 0.9097                     \n",
      "Epoch 148/500 --> loss: 1.5522 - accuracy: 0.9241 | Validation loss: 1.5559 - Validation accuracy: 0.9097                     \n",
      "Epoch 149/500 --> loss: 1.5528 - accuracy: 0.9310 | Validation loss: 1.5579 - Validation accuracy: 0.9062                     \n",
      "Epoch 150/500 --> loss: 1.5497 - accuracy: 0.9295 | Validation loss: 1.5588 - Validation accuracy: 0.9062                     \n",
      "Epoch 151/500 --> loss: 1.5672 - accuracy: 0.9097 | Validation loss: 1.5587 - Validation accuracy: 0.9097                     \n",
      "Epoch 152/500 --> loss: 1.5612 - accuracy: 0.9169 | Validation loss: 1.5551 - Validation accuracy: 0.9062                     \n",
      "Early stopping: stopping training after 152 epochs.\n"
     ]
    }
   ],
   "source": [
    "history = model.fit(\n",
    "    X_train = X_train, \n",
    "    y_train = y_train,\n",
    "    optimizer = optimizer,\n",
    "    loss_fn = loss_fn,\n",
    "    X_valid = X_valid,\n",
    "    y_valid = y_valid,\n",
    "    batch_size = batch_size,\n",
    "    epochs = epochs,\n",
    "    metrics = [metrics.accuracy],\n",
    "    callbacks = [callbacks.EarlyStopping(monitor='val_loss', patience=10)]\n",
    ")"
   ]
  },
  {
   "cell_type": "code",
   "execution_count": 45,
   "metadata": {},
   "outputs": [],
   "source": [
    "# Save the model\n",
    "torch.save(model.state_dict(), model_path)"
   ]
  },
  {
   "cell_type": "code",
   "execution_count": 46,
   "metadata": {},
   "outputs": [
    {
     "data": {
      "image/png": "[encoded data removed]",
      "text/plain": [
       "<Figure size 800x400 with 1 Axes>"
      ]
     },
     "metadata": {},
     "output_type": "display_data"
    }
   ],
   "source": [
    "# Plot the training and validation loss\n",
    "data_analysis.plot_history(history[\"loss\"].numpy(), history[\"val_loss\"].numpy(), \"Training and Validation Loss\", \"Epoch\", \"Loss\")"
   ]
  },
  {
   "cell_type": "markdown",
   "metadata": {},
   "source": [
    "### Evaluation"
   ]
  },
  {
   "cell_type": "code",
   "execution_count": 47,
   "metadata": {},
   "outputs": [],
   "source": [
    "# Disable gradient computation\n",
    "with torch.no_grad():\n",
    "    # Set the model in evaluation mode\n",
    "    model.eval()\n",
    "    \n",
    "    # Compute the predictions\n",
    "    predictions = model(X_test)\n",
    "\n",
    "# Apply the argmax function to the predictions\n",
    "predictions = torch.argmax(predictions.detach(), dim=1)"
   ]
  },
  {
   "cell_type": "code",
   "execution_count": 48,
   "metadata": {},
   "outputs": [
    {
     "name": "stdout",
     "output_type": "stream",
     "text": [
      "Accuracy: 0.94\n"
     ]
    },
    {
     "data": {
      "image/png": "[encoded data removed]",
      "text/plain": [
       "<Figure size 600x600 with 1 Axes>"
      ]
     },
     "metadata": {},
     "output_type": "display_data"
    }
   ],
   "source": [
    "# Compute the accuracy\n",
    "accuracy = metrics.accuracy(y_test, predictions)\n",
    "confusion_matrix = metrics.confusion_matrix(num_classes, y_test, predictions)\n",
    "\n",
    "# Print the accuracy\n",
    "print(f\"Accuracy: {accuracy.item():.2f}\")\n",
    "\n",
    "# Plot the confusion matrix\n",
    "data_analysis.plot_confusion_matrix(confusion_matrix.numpy())"
   ]
  }
 ],
 "metadata": {
  "kernelspec": {
   "display_name": "venv",
   "language": "python",
   "name": "python3"
  },
  "language_info": {
   "codemirror_mode": {
    "name": "ipython",
    "version": 3
   },
   "file_extension": ".py",
   "mimetype": "text/x-python",
   "name": "python",
   "nbconvert_exporter": "python",
   "pygments_lexer": "ipython3",
   "version": "3.11.11"
  }
 },
 "nbformat": 4,
 "nbformat_minor": 2
}
