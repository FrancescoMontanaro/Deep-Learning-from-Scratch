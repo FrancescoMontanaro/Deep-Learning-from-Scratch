{
 "cells": [
  {
   "cell_type": "code",
   "execution_count": 1,
   "metadata": {},
   "outputs": [],
   "source": [
    "\n",
    "import os\n",
    "import sys\n",
    "import torch\n",
    "import numpy as np\n",
    "import torch.nn as nn\n",
    "import torch.nn.functional as F\n",
    "import matplotlib.pyplot as plt\n",
    "from sklearn.datasets import load_digits\n",
    "from sklearn.model_selection import train_test_split\n",
    "\n",
    "sys.path.append(\"..\")\n",
    "\n",
    "from src import metrics, callbacks\n",
    "from src.utils import data_analysis, device\n",
    "from src.architectures.sequential import Sequential"
   ]
  },
  {
   "cell_type": "markdown",
   "metadata": {},
   "source": [
    "### Constants and Hyperparameters"
   ]
  },
  {
   "cell_type": "code",
   "execution_count": 2,
   "metadata": {},
   "outputs": [],
   "source": [
    "# Path to where the model will be saved\n",
    "model_path = os.path.join(os.getcwd(), 'checkpoints', 'digits_classifier.pt')\n",
    "\n",
    "# Create a directory for the model if it doesn't exist\n",
    "os.makedirs(os.path.dirname(model_path), exist_ok=True)"
   ]
  },
  {
   "cell_type": "code",
   "execution_count": 3,
   "metadata": {},
   "outputs": [],
   "source": [
    "train_test_split_pct = 0.2 # Percentage of samples to use for testing\n",
    "train_valid_split = 0.2 # Percentage of samples to use for validation\n",
    "learning_rate = 1e-3 # Learning rate for the optimizer\n",
    "batch_size = 16 # Number of samples to use for each batch\n",
    "epochs = 300 # Number of epochs to train the model\n",
    "seed = 1337 # Seed for reproducibility"
   ]
  },
  {
   "cell_type": "code",
   "execution_count": 4,
   "metadata": {},
   "outputs": [],
   "source": [
    "# Set the seed for reproducibility\n",
    "torch.manual_seed(seed);"
   ]
  },
  {
   "cell_type": "markdown",
   "metadata": {},
   "source": [
    "### Data loading"
   ]
  },
  {
   "cell_type": "code",
   "execution_count": 5,
   "metadata": {},
   "outputs": [
    {
     "name": "stdout",
     "output_type": "stream",
     "text": [
      "Number of classes: 10\n",
      "Training set: (1149, 64) (1149,)\n",
      "Validation set: (288, 64) (288,)\n",
      "Testing set: (360, 64) (360,)\n"
     ]
    }
   ],
   "source": [
    "# Load the digits dataset\n",
    "digits = load_digits()\n",
    "\n",
    "# Extract the number of classes in the dataset\n",
    "num_classes = len(np.unique(digits['target'])) # type: ignore\n",
    "\n",
    "# Extract the input and output data\n",
    "data = np.array(digits.get(\"data\", [])) # type: ignore\n",
    "labels = np.array(digits.get(\"target\", [])) # type: ignore\n",
    "\n",
    "\n",
    "# Split the dataset into training, validation, and testing sets\n",
    "X_train, X_test, y_train, y_test = train_test_split(data, labels, test_size=train_test_split_pct, shuffle=True)\n",
    "X_train, X_valid, y_train, y_valid = train_test_split(X_train, y_train, test_size=train_valid_split, shuffle=True)\n",
    "\n",
    "# Print the dataset information\n",
    "print(\"Number of classes:\", num_classes)\n",
    "print('Training set:', X_train.shape, y_train.shape)\n",
    "print('Validation set:', X_valid.shape, y_valid.shape)\n",
    "print('Testing set:', X_test.shape, y_test.shape)"
   ]
  },
  {
   "cell_type": "code",
   "execution_count": 6,
   "metadata": {},
   "outputs": [],
   "source": [
    "# Convert the data to PyTorch tensors\n",
    "X_train = torch.tensor(X_train, dtype=torch.float32).to(device)\n",
    "y_train = torch.tensor(y_train, dtype=torch.long).to(device)\n",
    "X_valid = torch.tensor(X_valid, dtype=torch.float32).to(device)\n",
    "y_valid = torch.tensor(y_valid, dtype=torch.long).to(device)\n",
    "X_test = torch.tensor(X_test, dtype=torch.float32).to(device)\n",
    "y_test = torch.tensor(y_test, dtype=torch.long).to(device)"
   ]
  },
  {
   "cell_type": "markdown",
   "metadata": {},
   "source": [
    "### Data Preprocessing"
   ]
  },
  {
   "cell_type": "code",
   "execution_count": 7,
   "metadata": {},
   "outputs": [],
   "source": [
    "# Normalization\n",
    "def normalize(X: torch.Tensor) -> torch.Tensor:\n",
    "    \"\"\"\n",
    "    Normalize the input data by dividing by the maximum value in the training set.\n",
    "    \n",
    "    Parameters:\n",
    "    - X (Tensor): The input data to normalize\n",
    "    \n",
    "    Returns:\n",
    "    - Tensor: The normalized input data\n",
    "    \"\"\"\n",
    "    \n",
    "    # Normalize the input data\n",
    "    return X / 255.0\n",
    "\n",
    "# Normalize the input data\n",
    "X_train = normalize(X_train)\n",
    "X_valid = normalize(X_valid)\n",
    "X_test = normalize(X_test)"
   ]
  },
  {
   "cell_type": "code",
   "execution_count": 8,
   "metadata": {},
   "outputs": [
    {
     "name": "stdout",
     "output_type": "stream",
     "text": [
      "Sample target value: 5\n",
      "One-hot encoded value: tensor([0, 0, 0, 0, 0, 1, 0, 0, 0, 0], device='mps:0')\n"
     ]
    }
   ],
   "source": [
    "# Convert the target values to one-hot encoded vectors\n",
    "y_train_encoded = F.one_hot(y_train, num_classes=num_classes)\n",
    "y_valid_encoded = F.one_hot(y_valid, num_classes=num_classes)\n",
    "\n",
    "# Print one sample encoding\n",
    "print(\"Sample target value:\", y_train[0].item())\n",
    "print(\"One-hot encoded value:\", y_train_encoded[0])"
   ]
  },
  {
   "cell_type": "markdown",
   "metadata": {},
   "source": [
    "### Data visualization"
   ]
  },
  {
   "cell_type": "code",
   "execution_count": 9,
   "metadata": {},
   "outputs": [
    {
     "data": {
      "image/png": "[encoded data removed]",
      "text/plain": [
       "<Figure size 2000x500 with 10 Axes>"
      ]
     },
     "metadata": {},
     "output_type": "display_data"
    }
   ],
   "source": [
    "def plot_samples(samples: list[np.ndarray], labels: list[np.ndarray]) -> None:\n",
    "    \"\"\"\n",
    "    Plot the samples in a grid.\n",
    "    \n",
    "    Parameters:\n",
    "    - samples (list[np.ndarray]): The samples to plot\n",
    "    - labels (list[np.ndarray]): The labels of the samples\n",
    "    \"\"\"\n",
    "    \n",
    "    # Create a list to store the reshaped samples\n",
    "    reshaped_samples = []\n",
    "    \n",
    "    # Iterate over the samples\n",
    "    for sample in samples:\n",
    "        # Compute the new shape\n",
    "        new_shape = np.sqrt(sample.shape).astype(int)[0]\n",
    "        \n",
    "        # Reshape the sample\n",
    "        sample = sample.reshape(new_shape, new_shape)\n",
    "        \n",
    "        # Append the reshaped sample\n",
    "        reshaped_samples.append(sample)\n",
    "        \n",
    "    # Plot the samples in a grid\n",
    "    _, axes = plt.subplots(1, len(samples), figsize=(20, 5))\n",
    "    for i, ax in enumerate(axes):\n",
    "        ax.imshow(reshaped_samples[i], cmap='gray')\n",
    "        ax.set_title(f'Label: {labels[i]}')\n",
    "        ax.axis('off')\n",
    "        \n",
    "        \n",
    "# Plot the first 10 samples\n",
    "plot_samples(list(X_train.cpu().numpy()[:10]), list(y_train.cpu().numpy()[:10]))"
   ]
  },
  {
   "cell_type": "markdown",
   "metadata": {},
   "source": [
    "### Building the model"
   ]
  },
  {
   "cell_type": "code",
   "execution_count": 10,
   "metadata": {},
   "outputs": [],
   "source": [
    "\n",
    "model = Sequential(\n",
    "    nn.Linear(in_features=X_train.shape[1], out_features=24),\n",
    "    nn.ReLU(),\n",
    "    nn.Dropout(p=0.1),\n",
    "    nn.Linear(in_features=24, out_features=32),\n",
    "    nn.ReLU(),\n",
    "    nn.Dropout(p=0.1),\n",
    "    nn.Linear(in_features=32, out_features=12),\n",
    "    nn.Tanh(),\n",
    "    nn.Dropout(p=0.1),\n",
    "    nn.Linear(in_features=12, out_features=num_classes),\n",
    "    nn.Softmax(dim=1)\n",
    ")\n",
    "\n",
    "# Move the model to the appropriate device\n",
    "model = model.to(device)\n",
    "\n",
    "# Initialize the optimizer\n",
    "optimizer = torch.optim.AdamW(model.parameters(), lr=learning_rate)\n",
    "\n",
    "# Initialize the loss function\n",
    "loss_fn = nn.CrossEntropyLoss()"
   ]
  },
  {
   "cell_type": "markdown",
   "metadata": {},
   "source": [
    "### Initializing the model"
   ]
  },
  {
   "cell_type": "code",
   "execution_count": 11,
   "metadata": {},
   "outputs": [
    {
     "data": {
      "text/plain": [
       "Sequential(\n",
       "  (0): Linear(in_features=64, out_features=24, bias=True)\n",
       "  (1): ReLU()\n",
       "  (2): Dropout(p=0.1, inplace=False)\n",
       "  (3): Linear(in_features=24, out_features=32, bias=True)\n",
       "  (4): ReLU()\n",
       "  (5): Dropout(p=0.1, inplace=False)\n",
       "  (6): Linear(in_features=32, out_features=12, bias=True)\n",
       "  (7): Tanh()\n",
       "  (8): Dropout(p=0.1, inplace=False)\n",
       "  (9): Linear(in_features=12, out_features=10, bias=True)\n",
       "  (10): Softmax(dim=1)\n",
       ")"
      ]
     },
     "execution_count": 11,
     "metadata": {},
     "output_type": "execute_result"
    }
   ],
   "source": [
    "# Display the model summary\n",
    "model"
   ]
  },
  {
   "cell_type": "markdown",
   "metadata": {},
   "source": [
    "### Training the model"
   ]
  },
  {
   "cell_type": "code",
   "execution_count": 12,
   "metadata": {},
   "outputs": [
    {
     "name": "stdout",
     "output_type": "stream",
     "text": [
      "Epoch 1/300 --> loss: 2.3028 - accuracy: 0.1009 | Validation loss: 2.3014 - Validation accuracy: 0.0799                     \n",
      "Epoch 2/300 --> loss: 2.3021 - accuracy: 0.1146 | Validation loss: 2.3004 - Validation accuracy: 0.0799                     \n",
      "Epoch 3/300 --> loss: 2.2986 - accuracy: 0.1820 | Validation loss: 2.2933 - Validation accuracy: 0.1806                     \n",
      "Epoch 4/300 --> loss: 2.2723 - accuracy: 0.2336 | Validation loss: 2.2388 - Validation accuracy: 0.2465                     \n",
      "Epoch 5/300 --> loss: 2.1780 - accuracy: 0.3074 | Validation loss: 2.1329 - Validation accuracy: 0.3333                     \n",
      "Epoch 6/300 --> loss: 2.1048 - accuracy: 0.3791 | Validation loss: 2.0841 - Validation accuracy: 0.3611                     \n",
      "Epoch 7/300 --> loss: 2.0713 - accuracy: 0.4033 | Validation loss: 2.0681 - Validation accuracy: 0.3646                     \n",
      "Epoch 8/300 --> loss: 2.0523 - accuracy: 0.4057 | Validation loss: 2.0571 - Validation accuracy: 0.3681                     \n",
      "Epoch 9/300 --> loss: 2.0428 - accuracy: 0.4114 | Validation loss: 2.0493 - Validation accuracy: 0.3681                     \n",
      "Epoch 10/300 --> loss: 2.0328 - accuracy: 0.4283 | Validation loss: 2.0321 - Validation accuracy: 0.4167                     \n",
      "Epoch 11/300 --> loss: 2.0107 - accuracy: 0.4747 | Validation loss: 2.0208 - Validation accuracy: 0.4410                     \n",
      "Epoch 12/300 --> loss: 2.0033 - accuracy: 0.4873 | Validation loss: 2.0023 - Validation accuracy: 0.4722                     \n",
      "Epoch 13/300 --> loss: 1.9816 - accuracy: 0.5198 | Validation loss: 1.9823 - Validation accuracy: 0.4965                     \n",
      "Epoch 14/300 --> loss: 1.9711 - accuracy: 0.5244 | Validation loss: 1.9760 - Validation accuracy: 0.5104                     \n",
      "Epoch 15/300 --> loss: 1.9628 - accuracy: 0.5264 | Validation loss: 1.9617 - Validation accuracy: 0.5174                     \n",
      "Epoch 16/300 --> loss: 1.9459 - accuracy: 0.5431 | Validation loss: 1.9538 - Validation accuracy: 0.5174                     \n",
      "Epoch 17/300 --> loss: 1.9378 - accuracy: 0.5450 | Validation loss: 1.9428 - Validation accuracy: 0.5243                     \n",
      "Epoch 18/300 --> loss: 1.9322 - accuracy: 0.5457 | Validation loss: 1.9371 - Validation accuracy: 0.5243                     \n",
      "Epoch 19/300 --> loss: 1.9204 - accuracy: 0.5598 | Validation loss: 1.9271 - Validation accuracy: 0.5382                     \n",
      "Epoch 20/300 --> loss: 1.9152 - accuracy: 0.5650 | Validation loss: 1.9314 - Validation accuracy: 0.5312                     \n",
      "Epoch 21/300 --> loss: 1.9143 - accuracy: 0.5550 | Validation loss: 1.9218 - Validation accuracy: 0.5312                     \n",
      "Epoch 22/300 --> loss: 1.9035 - accuracy: 0.5730 | Validation loss: 1.9089 - Validation accuracy: 0.5486                     \n",
      "Epoch 23/300 --> loss: 1.8973 - accuracy: 0.5815 | Validation loss: 1.8986 - Validation accuracy: 0.5625                     \n",
      "Epoch 24/300 --> loss: 1.8936 - accuracy: 0.5837 | Validation loss: 1.8986 - Validation accuracy: 0.5694                     \n",
      "Epoch 25/300 --> loss: 1.8832 - accuracy: 0.6020 | Validation loss: 1.8841 - Validation accuracy: 0.5903                     \n",
      "Epoch 26/300 --> loss: 1.8821 - accuracy: 0.6025 | Validation loss: 1.8820 - Validation accuracy: 0.5903                     \n",
      "Epoch 27/300 --> loss: 1.8697 - accuracy: 0.6071 | Validation loss: 1.8745 - Validation accuracy: 0.5938                     \n",
      "Epoch 28/300 --> loss: 1.8680 - accuracy: 0.6129 | Validation loss: 1.8727 - Validation accuracy: 0.5972                     \n",
      "Epoch 29/300 --> loss: 1.8662 - accuracy: 0.6162 | Validation loss: 1.8613 - Validation accuracy: 0.6042                     \n",
      "Epoch 30/300 --> loss: 1.8495 - accuracy: 0.6253 | Validation loss: 1.8513 - Validation accuracy: 0.6111                     \n",
      "Epoch 31/300 --> loss: 1.8467 - accuracy: 0.6316 | Validation loss: 1.8422 - Validation accuracy: 0.6181                     \n",
      "Epoch 32/300 --> loss: 1.8376 - accuracy: 0.6394 | Validation loss: 1.8289 - Validation accuracy: 0.6424                     \n",
      "Epoch 33/300 --> loss: 1.8292 - accuracy: 0.6559 | Validation loss: 1.8148 - Validation accuracy: 0.6528                     \n",
      "Epoch 34/300 --> loss: 1.8271 - accuracy: 0.6607 | Validation loss: 1.8043 - Validation accuracy: 0.6701                     \n",
      "Epoch 35/300 --> loss: 1.8036 - accuracy: 0.6813 | Validation loss: 1.7918 - Validation accuracy: 0.6840                     \n",
      "Epoch 36/300 --> loss: 1.7965 - accuracy: 0.6902 | Validation loss: 1.7774 - Validation accuracy: 0.6979                     \n",
      "Epoch 37/300 --> loss: 1.7835 - accuracy: 0.7153 | Validation loss: 1.7628 - Validation accuracy: 0.7292                     \n",
      "Epoch 38/300 --> loss: 1.7837 - accuracy: 0.7260 | Validation loss: 1.7563 - Validation accuracy: 0.7326                     \n",
      "Epoch 39/300 --> loss: 1.7683 - accuracy: 0.7318 | Validation loss: 1.7476 - Validation accuracy: 0.7361                     \n",
      "Epoch 40/300 --> loss: 1.7664 - accuracy: 0.7282 | Validation loss: 1.7399 - Validation accuracy: 0.7431                     \n",
      "Epoch 41/300 --> loss: 1.7559 - accuracy: 0.7436 | Validation loss: 1.7532 - Validation accuracy: 0.7361                     \n",
      "Epoch 42/300 --> loss: 1.7562 - accuracy: 0.7392 | Validation loss: 1.7278 - Validation accuracy: 0.7569                     \n",
      "Epoch 43/300 --> loss: 1.7464 - accuracy: 0.7578 | Validation loss: 1.7215 - Validation accuracy: 0.7674                     \n",
      "Epoch 44/300 --> loss: 1.7432 - accuracy: 0.7567 | Validation loss: 1.7204 - Validation accuracy: 0.7639                     \n",
      "Epoch 45/300 --> loss: 1.7409 - accuracy: 0.7600 | Validation loss: 1.7014 - Validation accuracy: 0.7917                     \n",
      "Epoch 46/300 --> loss: 1.7263 - accuracy: 0.7833 | Validation loss: 1.6889 - Validation accuracy: 0.8125                     \n",
      "Epoch 47/300 --> loss: 1.7130 - accuracy: 0.7950 | Validation loss: 1.6841 - Validation accuracy: 0.8160                     \n",
      "Epoch 48/300 --> loss: 1.7205 - accuracy: 0.7804 | Validation loss: 1.6789 - Validation accuracy: 0.8264                     \n",
      "Epoch 49/300 --> loss: 1.7078 - accuracy: 0.7989 | Validation loss: 1.6697 - Validation accuracy: 0.8368                     \n",
      "Epoch 50/300 --> loss: 1.7120 - accuracy: 0.7937 | Validation loss: 1.6716 - Validation accuracy: 0.8333                     \n",
      "Epoch 51/300 --> loss: 1.6977 - accuracy: 0.8140 | Validation loss: 1.6640 - Validation accuracy: 0.8333                     \n",
      "Epoch 52/300 --> loss: 1.7025 - accuracy: 0.8028 | Validation loss: 1.6650 - Validation accuracy: 0.8229                     \n",
      "Epoch 53/300 --> loss: 1.6927 - accuracy: 0.8116 | Validation loss: 1.6608 - Validation accuracy: 0.8403                     \n",
      "Epoch 54/300 --> loss: 1.6919 - accuracy: 0.8006 | Validation loss: 1.6552 - Validation accuracy: 0.8333                     \n",
      "Epoch 55/300 --> loss: 1.6807 - accuracy: 0.8247 | Validation loss: 1.6496 - Validation accuracy: 0.8403                     \n",
      "Epoch 56/300 --> loss: 1.6789 - accuracy: 0.8216 | Validation loss: 1.6465 - Validation accuracy: 0.8299                     \n",
      "Epoch 57/300 --> loss: 1.6751 - accuracy: 0.8273 | Validation loss: 1.6575 - Validation accuracy: 0.8403                     \n",
      "Epoch 58/300 --> loss: 1.6744 - accuracy: 0.8204 | Validation loss: 1.6362 - Validation accuracy: 0.8507                     \n",
      "Epoch 59/300 --> loss: 1.6850 - accuracy: 0.8123 | Validation loss: 1.6345 - Validation accuracy: 0.8507                     \n",
      "Epoch 60/300 --> loss: 1.6691 - accuracy: 0.8210 | Validation loss: 1.6309 - Validation accuracy: 0.8646                     \n",
      "Epoch 61/300 --> loss: 1.6667 - accuracy: 0.8199 | Validation loss: 1.6286 - Validation accuracy: 0.8507                     \n",
      "Epoch 62/300 --> loss: 1.6655 - accuracy: 0.8243 | Validation loss: 1.6324 - Validation accuracy: 0.8438                     \n",
      "Epoch 63/300 --> loss: 1.6579 - accuracy: 0.8327 | Validation loss: 1.6254 - Validation accuracy: 0.8472                     \n",
      "Epoch 64/300 --> loss: 1.6507 - accuracy: 0.8399 | Validation loss: 1.6263 - Validation accuracy: 0.8542                     \n",
      "Epoch 65/300 --> loss: 1.6547 - accuracy: 0.8366 | Validation loss: 1.6248 - Validation accuracy: 0.8438                     \n",
      "Epoch 66/300 --> loss: 1.6562 - accuracy: 0.8362 | Validation loss: 1.6206 - Validation accuracy: 0.8576                     \n",
      "Epoch 67/300 --> loss: 1.6536 - accuracy: 0.8435 | Validation loss: 1.6200 - Validation accuracy: 0.8507                     \n",
      "Epoch 68/300 --> loss: 1.6418 - accuracy: 0.8518 | Validation loss: 1.6178 - Validation accuracy: 0.8542                     \n",
      "Epoch 69/300 --> loss: 1.6399 - accuracy: 0.8496 | Validation loss: 1.6208 - Validation accuracy: 0.8542                     \n",
      "Epoch 70/300 --> loss: 1.6398 - accuracy: 0.8525 | Validation loss: 1.6160 - Validation accuracy: 0.8576                     \n",
      "Epoch 71/300 --> loss: 1.6437 - accuracy: 0.8347 | Validation loss: 1.6179 - Validation accuracy: 0.8542                     \n",
      "Epoch 72/300 --> loss: 1.6336 - accuracy: 0.8518 | Validation loss: 1.6147 - Validation accuracy: 0.8542                     \n",
      "Epoch 73/300 --> loss: 1.6323 - accuracy: 0.8562 | Validation loss: 1.6101 - Validation accuracy: 0.8681                     \n",
      "Epoch 74/300 --> loss: 1.6297 - accuracy: 0.8505 | Validation loss: 1.6118 - Validation accuracy: 0.8611                     \n",
      "Epoch 75/300 --> loss: 1.6288 - accuracy: 0.8640 | Validation loss: 1.6156 - Validation accuracy: 0.8576                     \n",
      "Epoch 76/300 --> loss: 1.6267 - accuracy: 0.8618 | Validation loss: 1.6079 - Validation accuracy: 0.8681                     \n",
      "Epoch 77/300 --> loss: 1.6202 - accuracy: 0.8694 | Validation loss: 1.6089 - Validation accuracy: 0.8611                     \n",
      "Epoch 78/300 --> loss: 1.6225 - accuracy: 0.8605 | Validation loss: 1.6043 - Validation accuracy: 0.8681                     \n",
      "Epoch 79/300 --> loss: 1.6227 - accuracy: 0.8607 | Validation loss: 1.6045 - Validation accuracy: 0.8681                     \n",
      "Epoch 80/300 --> loss: 1.6211 - accuracy: 0.8659 | Validation loss: 1.6002 - Validation accuracy: 0.8750                     \n",
      "Epoch 81/300 --> loss: 1.6131 - accuracy: 0.8679 | Validation loss: 1.6041 - Validation accuracy: 0.8611                     \n",
      "Epoch 82/300 --> loss: 1.6107 - accuracy: 0.8744 | Validation loss: 1.5987 - Validation accuracy: 0.8750                     \n",
      "Epoch 83/300 --> loss: 1.6103 - accuracy: 0.8774 | Validation loss: 1.5962 - Validation accuracy: 0.8715                     \n",
      "Epoch 84/300 --> loss: 1.6156 - accuracy: 0.8731 | Validation loss: 1.5994 - Validation accuracy: 0.8646                     \n",
      "Epoch 85/300 --> loss: 1.6143 - accuracy: 0.8668 | Validation loss: 1.5949 - Validation accuracy: 0.8681                     \n",
      "Epoch 86/300 --> loss: 1.6094 - accuracy: 0.8774 | Validation loss: 1.6000 - Validation accuracy: 0.8750                     \n",
      "Epoch 87/300 --> loss: 1.6048 - accuracy: 0.8809 | Validation loss: 1.5940 - Validation accuracy: 0.8715                     \n",
      "Epoch 88/300 --> loss: 1.6056 - accuracy: 0.8772 | Validation loss: 1.5931 - Validation accuracy: 0.8715                     \n",
      "Epoch 89/300 --> loss: 1.6066 - accuracy: 0.8731 | Validation loss: 1.5927 - Validation accuracy: 0.8750                     \n",
      "Epoch 90/300 --> loss: 1.6017 - accuracy: 0.8774 | Validation loss: 1.5914 - Validation accuracy: 0.8750                     \n",
      "Epoch 91/300 --> loss: 1.5914 - accuracy: 0.8939 | Validation loss: 1.5874 - Validation accuracy: 0.8924                     \n",
      "Epoch 92/300 --> loss: 1.5979 - accuracy: 0.8837 | Validation loss: 1.6120 - Validation accuracy: 0.8542                     \n",
      "Epoch 93/300 --> loss: 1.6030 - accuracy: 0.8791 | Validation loss: 1.5828 - Validation accuracy: 0.8958                     \n",
      "Epoch 94/300 --> loss: 1.5965 - accuracy: 0.8859 | Validation loss: 1.5866 - Validation accuracy: 0.8785                     \n",
      "Epoch 95/300 --> loss: 1.5913 - accuracy: 0.8904 | Validation loss: 1.5809 - Validation accuracy: 0.8819                     \n",
      "Epoch 96/300 --> loss: 1.5992 - accuracy: 0.8819 | Validation loss: 1.5869 - Validation accuracy: 0.8785                     \n",
      "Epoch 97/300 --> loss: 1.5922 - accuracy: 0.8937 | Validation loss: 1.5899 - Validation accuracy: 0.8785                     \n",
      "Epoch 98/300 --> loss: 1.5802 - accuracy: 0.9015 | Validation loss: 1.5821 - Validation accuracy: 0.8819                     \n",
      "Epoch 99/300 --> loss: 1.5828 - accuracy: 0.8989 | Validation loss: 1.5842 - Validation accuracy: 0.8854                     \n",
      "Epoch 100/300 --> loss: 1.5872 - accuracy: 0.8896 | Validation loss: 1.5810 - Validation accuracy: 0.8819                     \n",
      "Epoch 101/300 --> loss: 1.5931 - accuracy: 0.8811 | Validation loss: 1.5800 - Validation accuracy: 0.8854                     \n",
      "Epoch 102/300 --> loss: 1.5837 - accuracy: 0.8937 | Validation loss: 1.5869 - Validation accuracy: 0.8785                     \n",
      "Epoch 103/300 --> loss: 1.5775 - accuracy: 0.8998 | Validation loss: 1.5776 - Validation accuracy: 0.8854                     \n",
      "Epoch 104/300 --> loss: 1.5847 - accuracy: 0.9000 | Validation loss: 1.5860 - Validation accuracy: 0.8819                     \n",
      "Epoch 105/300 --> loss: 1.5882 - accuracy: 0.8872 | Validation loss: 1.5764 - Validation accuracy: 0.8924                     \n",
      "Epoch 106/300 --> loss: 1.5835 - accuracy: 0.8941 | Validation loss: 1.5830 - Validation accuracy: 0.8854                     \n",
      "Epoch 107/300 --> loss: 1.5749 - accuracy: 0.9106 | Validation loss: 1.5801 - Validation accuracy: 0.8854                     \n",
      "Epoch 108/300 --> loss: 1.5753 - accuracy: 0.9043 | Validation loss: 1.5777 - Validation accuracy: 0.8854                     \n",
      "Epoch 109/300 --> loss: 1.5847 - accuracy: 0.8948 | Validation loss: 1.5781 - Validation accuracy: 0.8819                     \n",
      "Epoch 110/300 --> loss: 1.5821 - accuracy: 0.8950 | Validation loss: 1.5799 - Validation accuracy: 0.8854                     \n",
      "Epoch 111/300 --> loss: 1.5649 - accuracy: 0.9115 | Validation loss: 1.5788 - Validation accuracy: 0.8854                     \n",
      "Epoch 112/300 --> loss: 1.5709 - accuracy: 0.9008 | Validation loss: 1.5721 - Validation accuracy: 0.8924                     \n",
      "Epoch 113/300 --> loss: 1.5773 - accuracy: 0.8965 | Validation loss: 1.5722 - Validation accuracy: 0.8889                     \n",
      "Epoch 114/300 --> loss: 1.5703 - accuracy: 0.9032 | Validation loss: 1.5757 - Validation accuracy: 0.8854                     \n",
      "Epoch 115/300 --> loss: 1.5719 - accuracy: 0.9121 | Validation loss: 1.5750 - Validation accuracy: 0.8924                     \n",
      "Epoch 116/300 --> loss: 1.5800 - accuracy: 0.8984 | Validation loss: 1.5730 - Validation accuracy: 0.8889                     \n",
      "Epoch 117/300 --> loss: 1.5684 - accuracy: 0.9085 | Validation loss: 1.5745 - Validation accuracy: 0.8889                     \n",
      "Epoch 118/300 --> loss: 1.5639 - accuracy: 0.9158 | Validation loss: 1.5795 - Validation accuracy: 0.8819                     \n",
      "Epoch 119/300 --> loss: 1.5591 - accuracy: 0.9201 | Validation loss: 1.5714 - Validation accuracy: 0.8924                     \n",
      "Epoch 120/300 --> loss: 1.5615 - accuracy: 0.9163 | Validation loss: 1.5711 - Validation accuracy: 0.8889                     \n",
      "Epoch 121/300 --> loss: 1.5602 - accuracy: 0.9204 | Validation loss: 1.5727 - Validation accuracy: 0.8924                     \n",
      "Epoch 122/300 --> loss: 1.5603 - accuracy: 0.9201 | Validation loss: 1.5768 - Validation accuracy: 0.8819                     \n",
      "Epoch 123/300 --> loss: 1.5554 - accuracy: 0.9193 | Validation loss: 1.5704 - Validation accuracy: 0.8854                     \n",
      "Epoch 124/300 --> loss: 1.5567 - accuracy: 0.9236 | Validation loss: 1.5747 - Validation accuracy: 0.8854                     \n",
      "Epoch 125/300 --> loss: 1.5610 - accuracy: 0.9175 | Validation loss: 1.5778 - Validation accuracy: 0.8819                     \n",
      "Epoch 126/300 --> loss: 1.5598 - accuracy: 0.9180 | Validation loss: 1.5733 - Validation accuracy: 0.8889                     \n",
      "Epoch 127/300 --> loss: 1.5593 - accuracy: 0.9197 | Validation loss: 1.5671 - Validation accuracy: 0.8924                     \n",
      "Epoch 128/300 --> loss: 1.5651 - accuracy: 0.9115 | Validation loss: 1.5719 - Validation accuracy: 0.8889                     \n",
      "Epoch 129/300 --> loss: 1.5529 - accuracy: 0.9234 | Validation loss: 1.5699 - Validation accuracy: 0.8924                     \n",
      "Epoch 130/300 --> loss: 1.5530 - accuracy: 0.9253 | Validation loss: 1.5692 - Validation accuracy: 0.8889                     \n",
      "Epoch 131/300 --> loss: 1.5465 - accuracy: 0.9286 | Validation loss: 1.5685 - Validation accuracy: 0.8889                     \n",
      "Epoch 132/300 --> loss: 1.5540 - accuracy: 0.9180 | Validation loss: 1.5676 - Validation accuracy: 0.8993                     \n",
      "Epoch 133/300 --> loss: 1.5529 - accuracy: 0.9225 | Validation loss: 1.5721 - Validation accuracy: 0.8889                     \n",
      "Epoch 134/300 --> loss: 1.5483 - accuracy: 0.9284 | Validation loss: 1.5736 - Validation accuracy: 0.8819                     \n",
      "Epoch 135/300 --> loss: 1.5580 - accuracy: 0.9199 | Validation loss: 1.5688 - Validation accuracy: 0.8924                     \n",
      "Epoch 136/300 --> loss: 1.5533 - accuracy: 0.9234 | Validation loss: 1.5716 - Validation accuracy: 0.8889                     \n",
      "Epoch 137/300 --> loss: 1.5449 - accuracy: 0.9284 | Validation loss: 1.5739 - Validation accuracy: 0.8819                     \n",
      "Early stopping: stopping training after 137 epochs.\n"
     ]
    }
   ],
   "source": [
    "history = model.fit(\n",
    "    X_train = X_train, \n",
    "    y_train = y_train,\n",
    "    optimizer = optimizer,\n",
    "    loss_fn = loss_fn,\n",
    "    X_valid = X_valid,\n",
    "    y_valid = y_valid,\n",
    "    batch_size = batch_size,\n",
    "    epochs = epochs,\n",
    "    metrics = [metrics.accuracy],\n",
    "    callbacks = [callbacks.EarlyStopping(monitor='val_loss', patience=10)]\n",
    ")"
   ]
  },
  {
   "cell_type": "code",
   "execution_count": 13,
   "metadata": {},
   "outputs": [],
   "source": [
    "# Save the model\n",
    "torch.save(model.state_dict(), model_path)"
   ]
  },
  {
   "cell_type": "code",
   "execution_count": 14,
   "metadata": {},
   "outputs": [
    {
     "data": {
      "image/png": "[encoded data removed]",
      "text/plain": [
       "<Figure size 800x400 with 1 Axes>"
      ]
     },
     "metadata": {},
     "output_type": "display_data"
    }
   ],
   "source": [
    "# Plot the training and validation loss\n",
    "data_analysis.plot_history(history[\"loss\"].numpy(), history[\"val_loss\"].numpy(), \"Training and Validation Loss\", \"Epoch\", \"Loss\")"
   ]
  },
  {
   "cell_type": "markdown",
   "metadata": {},
   "source": [
    "### Evaluation"
   ]
  },
  {
   "cell_type": "code",
   "execution_count": 15,
   "metadata": {},
   "outputs": [],
   "source": [
    "# Disable gradient computation\n",
    "with torch.no_grad():\n",
    "    # Set the model in evaluation mode\n",
    "    model.eval()\n",
    "    \n",
    "    # Compute the predictions\n",
    "    predictions = model(X_test)\n",
    "\n",
    "# Apply the argmax function to the predictions\n",
    "predictions = torch.argmax(predictions, dim=1)"
   ]
  },
  {
   "cell_type": "code",
   "execution_count": 16,
   "metadata": {},
   "outputs": [
    {
     "name": "stdout",
     "output_type": "stream",
     "text": [
      "Accuracy: 0.93\n"
     ]
    },
    {
     "data": {
      "image/png": "[encoded data removed]",
      "text/plain": [
       "<Figure size 600x600 with 1 Axes>"
      ]
     },
     "metadata": {},
     "output_type": "display_data"
    }
   ],
   "source": [
    "# Compute the accuracy\n",
    "accuracy = metrics.accuracy(y_test, predictions)\n",
    "confusion_matrix = metrics.confusion_matrix(num_classes, y_test, predictions)\n",
    "\n",
    "# Print the accuracy\n",
    "print(f\"Accuracy: {accuracy.item():.2f}\")\n",
    "\n",
    "# Plot the confusion matrix\n",
    "data_analysis.plot_confusion_matrix(confusion_matrix.numpy())"
   ]
  }
 ],
 "metadata": {
  "kernelspec": {
   "display_name": "venv",
   "language": "python",
   "name": "python3"
  },
  "language_info": {
   "codemirror_mode": {
    "name": "ipython",
    "version": 3
   },
   "file_extension": ".py",
   "mimetype": "text/x-python",
   "name": "python",
   "nbconvert_exporter": "python",
   "pygments_lexer": "ipython3",
   "version": "3.11.11"
  }
 },
 "nbformat": 4,
 "nbformat_minor": 2
}
